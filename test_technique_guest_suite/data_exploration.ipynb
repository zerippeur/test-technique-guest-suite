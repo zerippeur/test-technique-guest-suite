{
 "cells": [
  {
   "cell_type": "markdown",
   "metadata": {},
   "source": [
    "# Exploration des données"
   ]
  },
  {
   "cell_type": "markdown",
   "metadata": {},
   "source": [
    "## Importation des librairies"
   ]
  },
  {
   "cell_type": "code",
   "execution_count": 1,
   "metadata": {},
   "outputs": [],
   "source": [
    "import pandas as pd\n",
    "import pickle\n",
    "import gzip\n",
    "import plotly.express as px\n",
    "import plotly.graph_objects as go\n",
    "from sklearn.model_selection import train_test_split"
   ]
  },
  {
   "cell_type": "markdown",
   "metadata": {},
   "source": [
    "## Chargement des données"
   ]
  },
  {
   "cell_type": "code",
   "execution_count": 2,
   "metadata": {},
   "outputs": [],
   "source": [
    "train_path = \"../data/train.csv\"\n",
    "test_path = \"../data/test.csv\"\n",
    "train_df = pd.read_csv(train_path)\n",
    "test_df = pd.read_csv(test_path)"
   ]
  },
  {
   "cell_type": "markdown",
   "metadata": {},
   "source": [
    "## Analyse des données\n",
    "### Taille des données"
   ]
  },
  {
   "cell_type": "code",
   "execution_count": 3,
   "metadata": {},
   "outputs": [
    {
     "name": "stdout",
     "output_type": "stream",
     "text": [
      "taille du jeu train :\n",
      "nb de lignes :\t\t1458110\n",
      "nb de colonnes :\t5\n",
      "\n",
      "taille du jeu test :\n",
      "nb de lignes :\t\t393968\n",
      "nb de colonnes :\t4\n"
     ]
    }
   ],
   "source": [
    "print(\n",
    "    f'taille du jeu train :\\n'\n",
    "    f'nb de lignes :\\t\\t{train_df.shape[0]}\\n'\n",
    "    f'nb de colonnes :\\t{train_df.shape[1]}\\n\\n'\n",
    "    f'taille du jeu test :\\n'\n",
    "    f'nb de lignes :\\t\\t{test_df.shape[0]}\\n'\n",
    "    f'nb de colonnes :\\t{test_df.shape[1]}'\n",
    ")"
   ]
  },
  {
   "cell_type": "markdown",
   "metadata": {},
   "source": [
    "### Colonnes"
   ]
  },
  {
   "cell_type": "code",
   "execution_count": 4,
   "metadata": {},
   "outputs": [
    {
     "data": {
      "text/plain": [
       "Index(['Unnamed: 0', 'id', 'global_rate', 'establishment_id', 'review_text'], dtype='object')"
      ]
     },
     "execution_count": 4,
     "metadata": {},
     "output_type": "execute_result"
    }
   ],
   "source": [
    "train_df.columns"
   ]
  },
  {
   "cell_type": "code",
   "execution_count": 5,
   "metadata": {},
   "outputs": [
    {
     "data": {
      "text/plain": [
       "Unnamed: 0            int64\n",
       "id                    int64\n",
       "global_rate         float64\n",
       "establishment_id      int64\n",
       "review_text          object\n",
       "dtype: object"
      ]
     },
     "execution_count": 5,
     "metadata": {},
     "output_type": "execute_result"
    }
   ],
   "source": [
    "train_df.dtypes"
   ]
  },
  {
   "cell_type": "code",
   "execution_count": 6,
   "metadata": {},
   "outputs": [
    {
     "data": {
      "text/plain": [
       "Index(['Unnamed: 0', 'id', 'establishment_id', 'review_text'], dtype='object')"
      ]
     },
     "execution_count": 6,
     "metadata": {},
     "output_type": "execute_result"
    }
   ],
   "source": [
    "test_df.columns"
   ]
  },
  {
   "cell_type": "code",
   "execution_count": 7,
   "metadata": {},
   "outputs": [
    {
     "data": {
      "text/plain": [
       "Unnamed: 0           int64\n",
       "id                   int64\n",
       "establishment_id     int64\n",
       "review_text         object\n",
       "dtype: object"
      ]
     },
     "execution_count": 7,
     "metadata": {},
     "output_type": "execute_result"
    }
   ],
   "source": [
    "test_df.dtypes"
   ]
  },
  {
   "cell_type": "markdown",
   "metadata": {},
   "source": [
    "### Aperçu"
   ]
  },
  {
   "cell_type": "code",
   "execution_count": 8,
   "metadata": {},
   "outputs": [
    {
     "data": {
      "text/html": [
       "<div>\n",
       "<style scoped>\n",
       "    .dataframe tbody tr th:only-of-type {\n",
       "        vertical-align: middle;\n",
       "    }\n",
       "\n",
       "    .dataframe tbody tr th {\n",
       "        vertical-align: top;\n",
       "    }\n",
       "\n",
       "    .dataframe thead th {\n",
       "        text-align: right;\n",
       "    }\n",
       "</style>\n",
       "<table border=\"1\" class=\"dataframe\">\n",
       "  <thead>\n",
       "    <tr style=\"text-align: right;\">\n",
       "      <th></th>\n",
       "      <th>Unnamed: 0</th>\n",
       "      <th>id</th>\n",
       "      <th>global_rate</th>\n",
       "      <th>establishment_id</th>\n",
       "      <th>review_text</th>\n",
       "    </tr>\n",
       "  </thead>\n",
       "  <tbody>\n",
       "    <tr>\n",
       "      <th>530569</th>\n",
       "      <td>690381</td>\n",
       "      <td>13512007</td>\n",
       "      <td>8.0</td>\n",
       "      <td>15759</td>\n",
       "      <td>Ma collègue et moi y avons dormi une nuit. Nou...</td>\n",
       "    </tr>\n",
       "    <tr>\n",
       "      <th>1004039</th>\n",
       "      <td>1267569</td>\n",
       "      <td>27491545</td>\n",
       "      <td>10.0</td>\n",
       "      <td>24185</td>\n",
       "      <td>Une bonne surprise que la découverte de ce pet...</td>\n",
       "    </tr>\n",
       "    <tr>\n",
       "      <th>125354</th>\n",
       "      <td>161302</td>\n",
       "      <td>2370574</td>\n",
       "      <td>8.0</td>\n",
       "      <td>10339</td>\n",
       "      <td>Bonne soirée, rien à redire sur le menu à 29 €...</td>\n",
       "    </tr>\n",
       "    <tr>\n",
       "      <th>1431346</th>\n",
       "      <td>1820255</td>\n",
       "      <td>72256173</td>\n",
       "      <td>4.0</td>\n",
       "      <td>38288</td>\n",
       "      <td>Cadre extérieur très sympa, au calme. Parking ...</td>\n",
       "    </tr>\n",
       "    <tr>\n",
       "      <th>477630</th>\n",
       "      <td>625592</td>\n",
       "      <td>16472132</td>\n",
       "      <td>8.0</td>\n",
       "      <td>13817</td>\n",
       "      <td>Un hôtel bien situé. L’accueil est assuré à to...</td>\n",
       "    </tr>\n",
       "    <tr>\n",
       "      <th>392252</th>\n",
       "      <td>516062</td>\n",
       "      <td>10379879</td>\n",
       "      <td>8.0</td>\n",
       "      <td>12009</td>\n",
       "      <td>Nous avons passer un séminaire sur place avec ...</td>\n",
       "    </tr>\n",
       "    <tr>\n",
       "      <th>121478</th>\n",
       "      <td>150235</td>\n",
       "      <td>34746049</td>\n",
       "      <td>6.0</td>\n",
       "      <td>10332</td>\n",
       "      <td>Belle vue, endroit sympathique bien décoré. No...</td>\n",
       "    </tr>\n",
       "    <tr>\n",
       "      <th>1280260</th>\n",
       "      <td>1617843</td>\n",
       "      <td>69479813</td>\n",
       "      <td>8.0</td>\n",
       "      <td>26356</td>\n",
       "      <td>NaN</td>\n",
       "    </tr>\n",
       "    <tr>\n",
       "      <th>397245</th>\n",
       "      <td>523634</td>\n",
       "      <td>67373478</td>\n",
       "      <td>2.0</td>\n",
       "      <td>12084</td>\n",
       "      <td>O/5</td>\n",
       "    </tr>\n",
       "    <tr>\n",
       "      <th>1053180</th>\n",
       "      <td>1331697</td>\n",
       "      <td>77894954</td>\n",
       "      <td>10.0</td>\n",
       "      <td>24398</td>\n",
       "      <td>Nous avons apprécié chaque moment durant ce re...</td>\n",
       "    </tr>\n",
       "    <tr>\n",
       "      <th>150757</th>\n",
       "      <td>191332</td>\n",
       "      <td>2379545</td>\n",
       "      <td>8.0</td>\n",
       "      <td>10418</td>\n",
       "      <td>Nous avons passé un week-end dans cet hôtel. E...</td>\n",
       "    </tr>\n",
       "    <tr>\n",
       "      <th>850246</th>\n",
       "      <td>1077471</td>\n",
       "      <td>13601451</td>\n",
       "      <td>8.0</td>\n",
       "      <td>22541</td>\n",
       "      <td>Bien situer a l'exterieur de privas au calme. ...</td>\n",
       "    </tr>\n",
       "    <tr>\n",
       "      <th>874315</th>\n",
       "      <td>1108458</td>\n",
       "      <td>69288471</td>\n",
       "      <td>8.0</td>\n",
       "      <td>22749</td>\n",
       "      <td>NaN</td>\n",
       "    </tr>\n",
       "    <tr>\n",
       "      <th>1122792</th>\n",
       "      <td>1435699</td>\n",
       "      <td>53702858</td>\n",
       "      <td>0.0</td>\n",
       "      <td>25265</td>\n",
       "      <td>Wir sind beruflich wie auch privat viel unterw...</td>\n",
       "    </tr>\n",
       "    <tr>\n",
       "      <th>1099515</th>\n",
       "      <td>1392098</td>\n",
       "      <td>31073082</td>\n",
       "      <td>6.0</td>\n",
       "      <td>24618</td>\n",
       "      <td>Bien pour passage, manque d'entretien.</td>\n",
       "    </tr>\n",
       "    <tr>\n",
       "      <th>1404728</th>\n",
       "      <td>1783647</td>\n",
       "      <td>66778613</td>\n",
       "      <td>10.0</td>\n",
       "      <td>32715</td>\n",
       "      <td>Un Week-end merveilleux entre filles ! Merci à...</td>\n",
       "    </tr>\n",
       "    <tr>\n",
       "      <th>341759</th>\n",
       "      <td>458583</td>\n",
       "      <td>27283139</td>\n",
       "      <td>10.0</td>\n",
       "      <td>11899</td>\n",
       "      <td>J'ai eu la chance de trouver une chambre à la ...</td>\n",
       "    </tr>\n",
       "    <tr>\n",
       "      <th>655915</th>\n",
       "      <td>833920</td>\n",
       "      <td>11881958</td>\n",
       "      <td>8.0</td>\n",
       "      <td>19418</td>\n",
       "      <td>Bon rapport qualité prix,idéal en famille. Hot...</td>\n",
       "    </tr>\n",
       "    <tr>\n",
       "      <th>123437</th>\n",
       "      <td>156252</td>\n",
       "      <td>28129084</td>\n",
       "      <td>10.0</td>\n",
       "      <td>10336</td>\n",
       "      <td>Nous avons passer un tres bon moment en amoure...</td>\n",
       "    </tr>\n",
       "    <tr>\n",
       "      <th>55654</th>\n",
       "      <td>65651</td>\n",
       "      <td>2347782</td>\n",
       "      <td>10.0</td>\n",
       "      <td>10152</td>\n",
       "      <td>très bon accueil. Service impeccable . Un pers...</td>\n",
       "    </tr>\n",
       "  </tbody>\n",
       "</table>\n",
       "</div>"
      ],
      "text/plain": [
       "         Unnamed: 0        id  global_rate  establishment_id  \\\n",
       "530569       690381  13512007          8.0             15759   \n",
       "1004039     1267569  27491545         10.0             24185   \n",
       "125354       161302   2370574          8.0             10339   \n",
       "1431346     1820255  72256173          4.0             38288   \n",
       "477630       625592  16472132          8.0             13817   \n",
       "392252       516062  10379879          8.0             12009   \n",
       "121478       150235  34746049          6.0             10332   \n",
       "1280260     1617843  69479813          8.0             26356   \n",
       "397245       523634  67373478          2.0             12084   \n",
       "1053180     1331697  77894954         10.0             24398   \n",
       "150757       191332   2379545          8.0             10418   \n",
       "850246      1077471  13601451          8.0             22541   \n",
       "874315      1108458  69288471          8.0             22749   \n",
       "1122792     1435699  53702858          0.0             25265   \n",
       "1099515     1392098  31073082          6.0             24618   \n",
       "1404728     1783647  66778613         10.0             32715   \n",
       "341759       458583  27283139         10.0             11899   \n",
       "655915       833920  11881958          8.0             19418   \n",
       "123437       156252  28129084         10.0             10336   \n",
       "55654         65651   2347782         10.0             10152   \n",
       "\n",
       "                                               review_text  \n",
       "530569   Ma collègue et moi y avons dormi une nuit. Nou...  \n",
       "1004039  Une bonne surprise que la découverte de ce pet...  \n",
       "125354   Bonne soirée, rien à redire sur le menu à 29 €...  \n",
       "1431346  Cadre extérieur très sympa, au calme. Parking ...  \n",
       "477630   Un hôtel bien situé. L’accueil est assuré à to...  \n",
       "392252   Nous avons passer un séminaire sur place avec ...  \n",
       "121478   Belle vue, endroit sympathique bien décoré. No...  \n",
       "1280260                                                NaN  \n",
       "397245                                                 O/5  \n",
       "1053180  Nous avons apprécié chaque moment durant ce re...  \n",
       "150757   Nous avons passé un week-end dans cet hôtel. E...  \n",
       "850246   Bien situer a l'exterieur de privas au calme. ...  \n",
       "874315                                                 NaN  \n",
       "1122792  Wir sind beruflich wie auch privat viel unterw...  \n",
       "1099515             Bien pour passage, manque d'entretien.  \n",
       "1404728  Un Week-end merveilleux entre filles ! Merci à...  \n",
       "341759   J'ai eu la chance de trouver une chambre à la ...  \n",
       "655915   Bon rapport qualité prix,idéal en famille. Hot...  \n",
       "123437   Nous avons passer un tres bon moment en amoure...  \n",
       "55654    très bon accueil. Service impeccable . Un pers...  "
      ]
     },
     "execution_count": 8,
     "metadata": {},
     "output_type": "execute_result"
    }
   ],
   "source": [
    "train_df.sample(20)"
   ]
  },
  {
   "cell_type": "code",
   "execution_count": 9,
   "metadata": {},
   "outputs": [
    {
     "data": {
      "text/html": [
       "<div>\n",
       "<style scoped>\n",
       "    .dataframe tbody tr th:only-of-type {\n",
       "        vertical-align: middle;\n",
       "    }\n",
       "\n",
       "    .dataframe tbody tr th {\n",
       "        vertical-align: top;\n",
       "    }\n",
       "\n",
       "    .dataframe thead th {\n",
       "        text-align: right;\n",
       "    }\n",
       "</style>\n",
       "<table border=\"1\" class=\"dataframe\">\n",
       "  <thead>\n",
       "    <tr style=\"text-align: right;\">\n",
       "      <th></th>\n",
       "      <th>Unnamed: 0</th>\n",
       "      <th>id</th>\n",
       "      <th>establishment_id</th>\n",
       "      <th>review_text</th>\n",
       "    </tr>\n",
       "  </thead>\n",
       "  <tbody>\n",
       "    <tr>\n",
       "      <th>361108</th>\n",
       "      <td>1723422</td>\n",
       "      <td>69455501</td>\n",
       "      <td>29107</td>\n",
       "      <td>NaN</td>\n",
       "    </tr>\n",
       "    <tr>\n",
       "      <th>179780</th>\n",
       "      <td>840240</td>\n",
       "      <td>69581301</td>\n",
       "      <td>20678</td>\n",
       "      <td>NaN</td>\n",
       "    </tr>\n",
       "    <tr>\n",
       "      <th>246181</th>\n",
       "      <td>1161716</td>\n",
       "      <td>78503348</td>\n",
       "      <td>23331</td>\n",
       "      <td>Thalassa  oleron\\nUn gag à fuir\\nComment dire ...</td>\n",
       "    </tr>\n",
       "    <tr>\n",
       "      <th>178955</th>\n",
       "      <td>839415</td>\n",
       "      <td>34882249</td>\n",
       "      <td>20678</td>\n",
       "      <td>Pas d'eau chaude 1er et 2ème jour. Verres sale...</td>\n",
       "    </tr>\n",
       "    <tr>\n",
       "      <th>370658</th>\n",
       "      <td>1750197</td>\n",
       "      <td>74791376</td>\n",
       "      <td>30711</td>\n",
       "      <td>NaN</td>\n",
       "    </tr>\n",
       "    <tr>\n",
       "      <th>187824</th>\n",
       "      <td>853627</td>\n",
       "      <td>77940697</td>\n",
       "      <td>20739</td>\n",
       "      <td>NaN</td>\n",
       "    </tr>\n",
       "    <tr>\n",
       "      <th>172361</th>\n",
       "      <td>764206</td>\n",
       "      <td>15723399</td>\n",
       "      <td>17132</td>\n",
       "      <td>On y va toujours pour la cuisine de grande qua...</td>\n",
       "    </tr>\n",
       "    <tr>\n",
       "      <th>378095</th>\n",
       "      <td>1770149</td>\n",
       "      <td>30957128</td>\n",
       "      <td>32037</td>\n",
       "      <td>NaN</td>\n",
       "    </tr>\n",
       "    <tr>\n",
       "      <th>275749</th>\n",
       "      <td>1320355</td>\n",
       "      <td>74107218</td>\n",
       "      <td>24348</td>\n",
       "      <td>Accueil chaleureux,  des plats qui régalent le...</td>\n",
       "    </tr>\n",
       "    <tr>\n",
       "      <th>61571</th>\n",
       "      <td>264286</td>\n",
       "      <td>71288719</td>\n",
       "      <td>11241</td>\n",
       "      <td>Très bel hôtel placé magnifiquement bien en pl...</td>\n",
       "    </tr>\n",
       "    <tr>\n",
       "      <th>194960</th>\n",
       "      <td>876865</td>\n",
       "      <td>69393996</td>\n",
       "      <td>21198</td>\n",
       "      <td>NaN</td>\n",
       "    </tr>\n",
       "    <tr>\n",
       "      <th>131041</th>\n",
       "      <td>539989</td>\n",
       "      <td>74856060</td>\n",
       "      <td>12162</td>\n",
       "      <td>NaN</td>\n",
       "    </tr>\n",
       "    <tr>\n",
       "      <th>201846</th>\n",
       "      <td>895206</td>\n",
       "      <td>73639001</td>\n",
       "      <td>21576</td>\n",
       "      <td>NaN</td>\n",
       "    </tr>\n",
       "    <tr>\n",
       "      <th>310952</th>\n",
       "      <td>1428814</td>\n",
       "      <td>77427067</td>\n",
       "      <td>25263</td>\n",
       "      <td>The Pullman is a beautiful hotel located very ...</td>\n",
       "    </tr>\n",
       "    <tr>\n",
       "      <th>217260</th>\n",
       "      <td>999397</td>\n",
       "      <td>73183496</td>\n",
       "      <td>21703</td>\n",
       "      <td>Accueil parfait</td>\n",
       "    </tr>\n",
       "    <tr>\n",
       "      <th>155175</th>\n",
       "      <td>679517</td>\n",
       "      <td>69599693</td>\n",
       "      <td>14552</td>\n",
       "      <td>NaN</td>\n",
       "    </tr>\n",
       "    <tr>\n",
       "      <th>372222</th>\n",
       "      <td>1761157</td>\n",
       "      <td>29904920</td>\n",
       "      <td>31470</td>\n",
       "      <td>Cher pour ce que c’est. Service désagréable. P...</td>\n",
       "    </tr>\n",
       "    <tr>\n",
       "      <th>324066</th>\n",
       "      <td>1527185</td>\n",
       "      <td>16066241</td>\n",
       "      <td>25497</td>\n",
       "      <td>Prestation très moyenne pour un trois étoiles....</td>\n",
       "    </tr>\n",
       "    <tr>\n",
       "      <th>379291</th>\n",
       "      <td>1792813</td>\n",
       "      <td>69598198</td>\n",
       "      <td>33600</td>\n",
       "      <td>NaN</td>\n",
       "    </tr>\n",
       "    <tr>\n",
       "      <th>370154</th>\n",
       "      <td>1749693</td>\n",
       "      <td>72865994</td>\n",
       "      <td>30711</td>\n",
       "      <td>NaN</td>\n",
       "    </tr>\n",
       "  </tbody>\n",
       "</table>\n",
       "</div>"
      ],
      "text/plain": [
       "        Unnamed: 0        id  establishment_id  \\\n",
       "361108     1723422  69455501             29107   \n",
       "179780      840240  69581301             20678   \n",
       "246181     1161716  78503348             23331   \n",
       "178955      839415  34882249             20678   \n",
       "370658     1750197  74791376             30711   \n",
       "187824      853627  77940697             20739   \n",
       "172361      764206  15723399             17132   \n",
       "378095     1770149  30957128             32037   \n",
       "275749     1320355  74107218             24348   \n",
       "61571       264286  71288719             11241   \n",
       "194960      876865  69393996             21198   \n",
       "131041      539989  74856060             12162   \n",
       "201846      895206  73639001             21576   \n",
       "310952     1428814  77427067             25263   \n",
       "217260      999397  73183496             21703   \n",
       "155175      679517  69599693             14552   \n",
       "372222     1761157  29904920             31470   \n",
       "324066     1527185  16066241             25497   \n",
       "379291     1792813  69598198             33600   \n",
       "370154     1749693  72865994             30711   \n",
       "\n",
       "                                              review_text  \n",
       "361108                                                NaN  \n",
       "179780                                                NaN  \n",
       "246181  Thalassa  oleron\\nUn gag à fuir\\nComment dire ...  \n",
       "178955  Pas d'eau chaude 1er et 2ème jour. Verres sale...  \n",
       "370658                                                NaN  \n",
       "187824                                                NaN  \n",
       "172361  On y va toujours pour la cuisine de grande qua...  \n",
       "378095                                                NaN  \n",
       "275749  Accueil chaleureux,  des plats qui régalent le...  \n",
       "61571   Très bel hôtel placé magnifiquement bien en pl...  \n",
       "194960                                                NaN  \n",
       "131041                                                NaN  \n",
       "201846                                                NaN  \n",
       "310952  The Pullman is a beautiful hotel located very ...  \n",
       "217260                                    Accueil parfait  \n",
       "155175                                                NaN  \n",
       "372222  Cher pour ce que c’est. Service désagréable. P...  \n",
       "324066  Prestation très moyenne pour un trois étoiles....  \n",
       "379291                                                NaN  \n",
       "370154                                                NaN  "
      ]
     },
     "execution_count": 9,
     "metadata": {},
     "output_type": "execute_result"
    }
   ],
   "source": [
    "test_df.sample(20)"
   ]
  },
  {
   "cell_type": "markdown",
   "metadata": {},
   "source": [
    "Il faudra supprimer les lignes avec des valeurs manquantes pour l'ensemble de train et de test."
   ]
  },
  {
   "cell_type": "markdown",
   "metadata": {},
   "source": [
    "### Analyse de la feature d'intérêt (texte)"
   ]
  },
  {
   "cell_type": "markdown",
   "metadata": {},
   "source": [
    "Vérification de l'homogénéité de la feature texte"
   ]
  },
  {
   "cell_type": "code",
   "execution_count": 10,
   "metadata": {},
   "outputs": [],
   "source": [
    "def is_not_string(value):\n",
    "    return not isinstance(value, str)"
   ]
  },
  {
   "cell_type": "code",
   "execution_count": 11,
   "metadata": {},
   "outputs": [
    {
     "data": {
      "text/plain": [
       "array([nan], dtype=object)"
      ]
     },
     "execution_count": 11,
     "metadata": {},
     "output_type": "execute_result"
    }
   ],
   "source": [
    "train_df[train_df['review_text'].apply(is_not_string)]['review_text'].unique()"
   ]
  },
  {
   "cell_type": "code",
   "execution_count": 12,
   "metadata": {},
   "outputs": [
    {
     "data": {
      "text/plain": [
       "array([nan], dtype=object)"
      ]
     },
     "execution_count": 12,
     "metadata": {},
     "output_type": "execute_result"
    }
   ],
   "source": [
    "test_df[test_df['review_text'].apply(is_not_string)]['review_text'].unique()"
   ]
  },
  {
   "cell_type": "markdown",
   "metadata": {},
   "source": [
    "Seules les valeurs non manquantes de la feature d'intérêt ne sont pas des strings."
   ]
  },
  {
   "cell_type": "markdown",
   "metadata": {},
   "source": [
    "### Répartition des données par établissements (en vue de la sélection ou non comme feature du modèle)"
   ]
  },
  {
   "cell_type": "code",
   "execution_count": 13,
   "metadata": {},
   "outputs": [
    {
     "data": {
      "text/plain": [
       "establishment_id\n",
       "26354    14205\n",
       "23346    10697\n",
       "21671     8798\n",
       "25324     8426\n",
       "14107     8330\n",
       "         ...  \n",
       "17042        1\n",
       "16913        1\n",
       "23183        1\n",
       "23185        1\n",
       "23189        1\n",
       "Name: count, Length: 2368, dtype: int64"
      ]
     },
     "execution_count": 13,
     "metadata": {},
     "output_type": "execute_result"
    }
   ],
   "source": [
    "train_df['establishment_id'].value_counts()"
   ]
  },
  {
   "cell_type": "code",
   "execution_count": 14,
   "metadata": {},
   "outputs": [
    {
     "data": {
      "application/vnd.plotly.v1+json": {
       "config": {
        "plotlyServerURL": "https://plot.ly"
       },
       "data": [
        {
         "alignmentgroup": "True",
         "bingroup": "x",
         "histfunc": "sum",
         "hovertemplate": "x=%{x}<br>sum of y=%{y}<extra></extra>",
         "legendgroup": "",
         "marker": {
          "color": "#636efa",
          "pattern": {
           "shape": ""
          }
         },
         "name": "",
         "nbinsx": 1000,
         "offsetgroup": "",
         "orientation": "v",
         "showlegend": false,
         "type": "histogram",
         "x": [
          26354,
          23346,
          21671,
          25324,
          14107,
          11435,
          21593,
          18681,
          10078,
          24605,
          25285,
          18676,
          27852,
          11310,
          25291,
          21594,
          25248,
          18692,
          26356,
          25281,
          30467,
          26260,
          18678,
          18679,
          21672,
          26248,
          25266,
          25260,
          32219,
          38288,
          11871,
          11261,
          25286,
          21182,
          11971,
          16272,
          26259,
          21667,
          18677,
          25284,
          24052,
          10612,
          21723,
          13752,
          20677,
          26267,
          25400,
          11237,
          21714,
          21722,
          25282,
          10184,
          21683,
          13618,
          21958,
          26360,
          11947,
          16273,
          21679,
          11437,
          13613,
          11436,
          26227,
          13634,
          25424,
          25264,
          10100,
          25262,
          11856,
          32491,
          11245,
          35756,
          12161,
          13419,
          26257,
          25265,
          25280,
          23973,
          14106,
          24311,
          19317,
          18863,
          10076,
          26264,
          21954,
          35975,
          26363,
          30533,
          10267,
          21569,
          13620,
          13617,
          21686,
          25491,
          13605,
          11247,
          11492,
          29146,
          35804,
          10099,
          25293,
          11251,
          39762,
          21695,
          25289,
          30809,
          21907,
          18670,
          13604,
          25287,
          10302,
          12173,
          10084,
          27356,
          11941,
          11242,
          22541,
          21687,
          39805,
          30808,
          11267,
          25294,
          21689,
          13603,
          14444,
          17021,
          10166,
          40857,
          16270,
          21680,
          14057,
          21721,
          10300,
          10162,
          18702,
          31001,
          21684,
          10359,
          21697,
          11899,
          22506,
          25374,
          31720,
          10516,
          11269,
          10073,
          21692,
          27150,
          10303,
          10339,
          28941,
          29015,
          12084,
          13602,
          24081,
          25283,
          21713,
          21727,
          26593,
          10002,
          25835,
          27441,
          29195,
          24261,
          18675,
          11940,
          10229,
          25423,
          16274,
          28934,
          11870,
          21586,
          20730,
          10057,
          13594,
          13600,
          14068,
          22503,
          11311,
          25821,
          20862,
          11291,
          29071,
          11467,
          21922,
          11265,
          21715,
          11277,
          11942,
          21693,
          21583,
          10182,
          26237,
          25292,
          25832,
          18916,
          25989,
          14531,
          36728,
          11939,
          11966,
          11390,
          25402,
          10433,
          21582,
          11294,
          25584,
          11354,
          10276,
          10293,
          12171,
          28936,
          24339,
          25301,
          10085,
          11253,
          18337,
          10142,
          21681,
          25599,
          32714,
          27512,
          24199,
          21572,
          10332,
          11959,
          11984,
          21711,
          11278,
          26258,
          11413,
          21578,
          21678,
          41267,
          27440,
          11956,
          40612,
          13611,
          21592,
          22648,
          10347,
          10043,
          10336,
          21729,
          10418,
          27336,
          10328,
          24283,
          24037,
          24371,
          10350,
          21690,
          29069,
          10240,
          13414,
          14119,
          11598,
          14103,
          10143,
          21716,
          10656,
          16271,
          18901,
          21588,
          11392,
          11944,
          23236,
          24349,
          12141,
          14527,
          24148,
          21590,
          40609,
          25596,
          11963,
          22749,
          14126,
          15757,
          21591,
          24401,
          10366,
          14055,
          11945,
          17083,
          23226,
          27955,
          13599,
          25823,
          22998,
          10298,
          24500,
          11273,
          20731,
          22876,
          23229,
          21717,
          27333,
          26359,
          33389,
          28938,
          11708,
          12151,
          15759,
          14549,
          14337,
          11356,
          10121,
          11236,
          11239,
          11857,
          11264,
          15755,
          11252,
          25827,
          10365,
          24200,
          24099,
          10635,
          10274,
          28947,
          23232,
          23233,
          21024,
          10403,
          11979,
          21728,
          10459,
          24134,
          11501,
          23898,
          11240,
          24167,
          24098,
          10664,
          13813,
          21191,
          18680,
          10177,
          13592,
          10164,
          10338,
          26262,
          23008,
          33411,
          10252,
          23910,
          10416,
          10376,
          11983,
          10251,
          22651,
          13601,
          23256,
          10343,
          27385,
          28954,
          10349,
          10128,
          10152,
          11289,
          24419,
          21719,
          15614,
          21677,
          24280,
          29070,
          10639,
          16417,
          21557,
          24467,
          24305,
          30463,
          22514,
          19304,
          28891,
          12165,
          24236,
          11912,
          28944,
          15763,
          25836,
          10103,
          13626,
          24398,
          11412,
          14443,
          10663,
          21699,
          22598,
          10330,
          14347,
          11357,
          11646,
          11980,
          14530,
          11974,
          27438,
          36544,
          23313,
          22753,
          21196,
          22537,
          10685,
          10657,
          18688,
          21668,
          15753,
          11353,
          24492,
          10294,
          24578,
          18330,
          24488,
          24553,
          13812,
          22485,
          32834,
          23821,
          11394,
          15911,
          11862,
          28939,
          20688,
          21953,
          11459,
          11946,
          25829,
          21597,
          37688,
          11296,
          25817,
          14056,
          39981,
          11197,
          24602,
          24206,
          24315,
          21571,
          11908,
          10653,
          23916,
          40610,
          24412,
          22621,
          10457,
          24290,
          17038,
          11982,
          10320,
          10147,
          11276,
          24337,
          29012,
          21708,
          13423,
          24292,
          10614,
          23887,
          21587,
          13610,
          13627,
          27520,
          24499,
          11978,
          27442,
          27357,
          33391,
          21424,
          32459,
          21203,
          25425,
          24967,
          32715,
          24050,
          40859,
          28942,
          14070,
          11415,
          11287,
          11290,
          23869,
          21709,
          24291,
          30994,
          25824,
          11284,
          11499,
          23863,
          11391,
          10088,
          13596,
          24103,
          21718,
          22507,
          14071,
          10074,
          10453,
          11962,
          10183,
          36908,
          10257,
          10163,
          11457,
          11448,
          13630,
          11608,
          21923,
          10640,
          23242,
          27433,
          24270,
          23825,
          39990,
          12037,
          38291,
          10110,
          10116,
          10134,
          10185,
          21188,
          16178,
          10444,
          22544,
          21924,
          10254,
          28940,
          15765,
          12170,
          23002,
          23888,
          28930,
          10124,
          21726,
          33441,
          23915,
          23222,
          10325,
          24444,
          11960,
          10342,
          21705,
          32477,
          27444,
          10044,
          24409,
          11987,
          24271,
          27514,
          28935,
          24338,
          10086,
          34312,
          10275,
          24442,
          25822,
          12137,
          16170,
          33480,
          27363,
          12138,
          27359,
          10520,
          13609,
          22678,
          24510,
          23862,
          40861,
          14350,
          10107,
          24214,
          20738,
          11307,
          36563,
          24158,
          11254,
          21704,
          10402,
          14059,
          11977,
          22990,
          24297,
          23906,
          13657,
          10070,
          39983,
          16398,
          25828,
          14118,
          10665,
          28327,
          11295,
          11234,
          11964,
          25970,
          28931,
          24370,
          24556,
          23834,
          22767,
          38304,
          11249,
          22743,
          22543,
          21581,
          22871,
          24086,
          23234,
          10382,
          24127,
          11260,
          21589,
          25830,
          25838,
          22552,
          30608,
          30590,
          24381,
          24585,
          22896,
          24554,
          22555,
          10279,
          11274,
          24483,
          11958,
          13405,
          11293,
          27370,
          23836,
          10268,
          11900,
          21913,
          10265,
          13817,
          10125,
          11414,
          13629,
          21570,
          11881,
          11232,
          23315,
          21184,
          40613,
          22619,
          24470,
          11910,
          24248,
          16275,
          11393,
          23068,
          11911,
          24265,
          12009,
          22602,
          24458,
          11898,
          22546,
          24446,
          10390,
          10399,
          23244,
          10409,
          11600,
          10220,
          14341,
          23014,
          11864,
          11943,
          22498,
          12079,
          10132,
          14351,
          10450,
          12163,
          24190,
          24496,
          10179,
          24185,
          37261,
          22512,
          27566,
          24180,
          39982,
          10394,
          22856,
          14065,
          19303,
          10634,
          16304,
          24314,
          28963,
          24157,
          11835,
          17133,
          24300,
          19288,
          21707,
          10223,
          28896,
          16182,
          17120,
          21183,
          24327,
          27563,
          21422,
          22927,
          16251,
          25698,
          11452,
          10253,
          10632,
          24302,
          24242,
          11641,
          26193,
          27565,
          10670,
          22548,
          23225,
          10129,
          23345,
          10284,
          23861,
          10672,
          28999,
          10367,
          23027,
          11879,
          24133,
          10662,
          12038,
          22724,
          10082,
          10673,
          10242,
          14342,
          10130,
          16986,
          17011,
          25507,
          10315,
          41283,
          22500,
          10615,
          11981,
          21596,
          10263,
          24541,
          24215,
          24284,
          18686,
          12147,
          21193,
          10150,
          17033,
          23271,
          24501,
          24097,
          20786,
          22645,
          32291,
          11968,
          10287,
          22542,
          10255,
          24201,
          11486,
          14498,
          23866,
          11985,
          16980,
          11481,
          11257,
          21710,
          23103,
          12035,
          10160,
          14336,
          24168,
          10228,
          21696,
          24476,
          23976,
          12139,
          33001,
          20888,
          10003,
          24219,
          11846,
          20924,
          24536,
          22644,
          10127,
          21675,
          10219,
          23339,
          32857,
          23929,
          14104,
          24036,
          15919,
          23889,
          30399,
          22540,
          24144,
          23839,
          10196,
          19286,
          24530,
          17041,
          10422,
          22529,
          22553,
          16948,
          11309,
          22534,
          26560,
          24222,
          23212,
          24427,
          14060,
          23238,
          10674,
          11813,
          23832,
          10356,
          10348,
          24253,
          16171,
          23991,
          23342,
          30400,
          10052,
          10157,
          24017,
          11967,
          10137,
          22557,
          11883,
          11976,
          10106,
          10326,
          35805,
          10289,
          11231,
          10373,
          11878,
          21685,
          23380,
          11246,
          39684,
          31929,
          15760,
          13485,
          11266,
          13588,
          24018,
          12629,
          10015,
          18319,
          17053,
          10094,
          16165,
          24335,
          23220,
          13416,
          22518,
          24512,
          28997,
          24582,
          12148,
          23375,
          10369,
          23301,
          23075,
          16953,
          24520,
          16942,
          13809,
          23268,
          18349,
          22723,
          24188,
          10258,
          13578,
          10426,
          20785,
          21186,
          17058,
          23996,
          23894,
          24491,
          22966,
          17027,
          11829,
          22729,
          22501,
          15754,
          24449,
          24529,
          22499,
          24394,
          23778,
          11298,
          12029,
          23905,
          17071,
          13795,
          13589,
          11806,
          21706,
          28890,
          23347,
          24361,
          24486,
          24507,
          27344,
          22650,
          22567,
          23317,
          14074,
          33609,
          22516,
          24140,
          23885,
          11880,
          13807,
          24549,
          24618,
          24589,
          40723,
          10108,
          23851,
          24619,
          21605,
          14536,
          10273,
          22922,
          23849,
          18870,
          13415,
          10669,
          21694,
          23904,
          24528,
          26553,
          12015,
          17102,
          23299,
          25833,
          23272,
          24368,
          22525,
          22531,
          23005,
          23900,
          21965,
          24304,
          24198,
          11909,
          21793,
          24592,
          13624,
          24226,
          10341,
          12149,
          24303,
          23877,
          10308,
          13587,
          21691,
          24343,
          11243,
          23341,
          23641,
          17114,
          21568,
          21423,
          16995,
          10454,
          23902,
          12155,
          24204,
          16884,
          28014,
          22677,
          11280,
          10321,
          28897,
          23921,
          24323,
          21775,
          27351,
          11866,
          22526,
          13622,
          39792,
          23914,
          11707,
          22569,
          24117,
          10825,
          24169,
          11054,
          24566,
          20885,
          12012,
          22511,
          24850,
          22566,
          18699,
          23917,
          23343,
          10654,
          18322,
          24031,
          18320,
          15615,
          23848,
          10256,
          24232,
          24019,
          24868,
          24597,
          22554,
          10319,
          10392,
          10250,
          10058,
          10429,
          10169,
          13580,
          12154,
          23293,
          25826,
          23865,
          21682,
          22888,
          22395,
          24617,
          22893,
          24422,
          10446,
          10122,
          10430,
          23926,
          24021,
          10097,
          27564,
          28949,
          16400,
          11286,
          11901,
          10144,
          10148,
          10290,
          23854,
          16983,
          23230,
          17105,
          21453,
          14538,
          22509,
          27569,
          27919,
          10423,
          28998,
          17109,
          11734,
          11643,
          28943,
          24866,
          12168,
          16266,
          24350,
          17101,
          24273,
          24918,
          24256,
          23721,
          16925,
          22837,
          23857,
          17015,
          31306,
          10032,
          17060,
          19416,
          10447,
          24020,
          11863,
          19418,
          23853,
          16267,
          17037,
          24625,
          25162,
          24532,
          14117,
          10644,
          14348,
          23450,
          11602,
          23843,
          21438,
          27443,
          11860,
          22497,
          23109,
          24495,
          24558,
          21595,
          24586,
          23689,
          10133,
          10291,
          27570,
          24228,
          16991,
          16263,
          10379,
          10204,
          24534,
          20859,
          32780,
          10688,
          24447,
          24579,
          11722,
          10292,
          22547,
          28956,
          10380,
          11948,
          24527,
          32869,
          24511,
          23281,
          23856,
          24612,
          25882,
          23971,
          17057,
          10235,
          24509,
          16984,
          24003,
          32854,
          24481,
          24318,
          24461,
          16957,
          28996,
          24095,
          31707,
          23249,
          10618,
          16268,
          24116,
          23903,
          23883,
          28952,
          18326,
          11248,
          40858,
          30439,
          16872,
          23852,
          23651,
          10827,
          23993,
          12152,
          23909,
          17016,
          26362,
          29001,
          24385,
          14528,
          18325,
          10231,
          16974,
          17000,
          28951,
          14102,
          24324,
          24281,
          19417,
          23846,
          21611,
          11380,
          27823,
          24855,
          23278,
          24177,
          11783,
          11666,
          11859,
          10206,
          17122,
          19420,
          10844,
          24533,
          24013,
          23831,
          11660,
          23987,
          23657,
          27574,
          23082,
          31252,
          10138,
          23928,
          21770,
          23878,
          23897,
          10135,
          16975,
          22539,
          23214,
          24322,
          21202,
          24453,
          11667,
          24555,
          14125,
          31309,
          26555,
          10695,
          11776,
          23868,
          25493,
          24620,
          18900,
          17039,
          27513,
          10334,
          16183,
          26171,
          16946,
          17112,
          11972,
          23304,
          24007,
          17104,
          11725,
          24175,
          16282,
          26358,
          23337,
          24085,
          23537,
          23292,
          24436,
          22593,
          24360,
          16976,
          23575,
          11222,
          23314,
          24588,
          16981,
          23911,
          22550,
          10262,
          24164,
          22733,
          23826,
          16989,
          25542,
          26246,
          22647,
          24119,
          16895,
          19413,
          24457,
          11484,
          24460,
          11434,
          23951,
          11697,
          22874,
          17020,
          27567,
          24545,
          23769,
          11416,
          10449,
          23855,
          23445,
          27921,
          11485,
          33164,
          11787,
          28015,
          11839,
          16922,
          18911,
          16281,
          17006,
          11244,
          23335,
          28903,
          23334,
          24525,
          24384,
          24433,
          16985,
          24211,
          23840,
          11342,
          14123,
          20789,
          11655,
          30423,
          16265,
          10451,
          18896,
          16911,
          26365,
          23918,
          10091,
          17067,
          24544,
          16988,
          24357,
          25538,
          17121,
          30522,
          23318,
          23502,
          21832,
          16987,
          16408,
          31110,
          17018,
          17111,
          10201,
          22903,
          23215,
          10819,
          17007,
          23255,
          18395,
          10331,
          10309,
          24330,
          24053,
          22747,
          23882,
          16929,
          22561,
          18695,
          23228,
          24570,
          24543,
          11649,
          21712,
          23555,
          11868,
          12156,
          40929,
          24009,
          23890,
          11800,
          11774,
          17040,
          10087,
          17129,
          22744,
          24143,
          23303,
          10816,
          24111,
          17049,
          23978,
          13201,
          31473,
          22737,
          24002,
          24045,
          17094,
          28962,
          24373,
          24351,
          23295,
          24552,
          22536,
          17063,
          21187,
          17107,
          37627,
          31002,
          23291,
          39382,
          23892,
          12150,
          17110,
          22517,
          11675,
          23858,
          23336,
          16844,
          23833,
          16173,
          16994,
          11803,
          17001,
          11729,
          22564,
          32733,
          11867,
          32624,
          18318,
          18902,
          24624,
          17087,
          16952,
          24493,
          16972,
          17082,
          28915,
          23669,
          24047,
          17002,
          10278,
          11283,
          10857,
          23850,
          11726,
          24268,
          23636,
          10306,
          23285,
          23324,
          17116,
          30709,
          13616,
          23842,
          11819,
          23977,
          22676,
          28889,
          17061,
          11036,
          22575,
          23284,
          19415,
          22752,
          27604,
          24415,
          10518,
          11793,
          27568,
          10916,
          14066,
          10322,
          16185,
          22505,
          24434,
          23824,
          11644,
          16886,
          23084,
          24627,
          24241,
          20733,
          10190,
          36817,
          17096,
          24139,
          11472,
          10208,
          24464,
          22741,
          18899,
          17119,
          25650,
          27095,
          16962,
          14343,
          16955,
          25837,
          17089,
          14447,
          23844,
          23913,
          21777,
          11809,
          27573,
          25868,
          10175,
          22732,
          16928,
          16889,
          11780,
          10386,
          24295,
          15610,
          23288,
          11752,
          25199,
          24130,
          14349,
          16923,
          11648,
          10378,
          24151,
          22532,
          10174,
          31054,
          17124,
          17126,
          17052,
          34357,
          22520,
          23219,
          24571,
          22868,
          16887,
          11086,
          11297,
          19419,
          23884,
          11954,
          23297,
          11034,
          11973,
          23243,
          23485,
          11765,
          24079,
          17028,
          23330,
          23835,
          23213,
          24518,
          24587,
          10176,
          16964,
          27519,
          11747,
          16973,
          11750,
          10096,
          17062,
          16896,
          18323,
          17013,
          11735,
          20893,
          24391,
          11057,
          27518,
          14054,
          17108,
          23276,
          12169,
          11778,
          24468,
          11045,
          23247,
          16992,
          23522,
          32569,
          24336,
          11058,
          11078,
          24563,
          10372,
          23724,
          34204,
          16959,
          11101,
          11731,
          17046,
          16906,
          17130,
          24410,
          11275,
          23367,
          17134,
          10192,
          25215,
          17050,
          10288,
          11816,
          30624,
          11092,
          24484,
          24195,
          11838,
          16845,
          22917,
          23096,
          24341,
          23557,
          21428,
          11792,
          13426,
          23774,
          17048,
          23192,
          23286,
          17098,
          10505,
          11952,
          18852,
          10195,
          17056,
          14069,
          11656,
          11032,
          10448,
          16395,
          10408,
          24159,
          24396,
          11812,
          10440,
          24212,
          10387,
          16860,
          24026,
          23655,
          25503,
          10436,
          24355,
          23532,
          34495,
          17079,
          23722,
          11668,
          23879,
          11759,
          24559,
          11693,
          11659,
          10969,
          16961,
          22649,
          24301,
          10787,
          11744,
          33630,
          18912,
          16958,
          16871,
          23583,
          16918,
          17081,
          13628,
          23589,
          18903,
          11760,
          23995,
          11761,
          22734,
          15758,
          17055,
          16977,
          13244,
          24289,
          11786,
          21608,
          24182,
          10215,
          16970,
          11827,
          24402,
          24609,
          11682,
          16865,
          23994,
          23154,
          17005,
          17024,
          10075,
          31517,
          22599,
          23875,
          23462,
          17014,
          23895,
          30619,
          11073,
          17090,
          24386,
          23871,
          16998,
          24294,
          17019,
          10412,
          22757,
          29014,
          24583,
          32886,
          16878,
          21700,
          16894,
          16927,
          11730,
          24106,
          16931,
          21607,
          23282,
          37402,
          23972,
          23036,
          17026,
          11684,
          11767,
          16264,
          10030,
          27515,
          23948,
          17059,
          11754,
          16963,
          26543,
          23085,
          11746,
          24231,
          24504,
          24622,
          28955,
          24246,
          24353,
          23829,
          16956,
          22627,
          11768,
          24044,
          10823,
          11429,
          11795,
          23620,
          11100,
          23246,
          16024,
          11884,
          11933,
          21197,
          10189,
          22938,
          11673,
          23912,
          10198,
          23950,
          11758,
          11306,
          23289,
          16893,
          16917,
          16261,
          17012,
          19318,
          11808,
          13200,
          23940,
          24615,
          24606,
          24114,
          23352,
          22483,
          11083,
          23498,
          10261,
          23141,
          13407,
          17010,
          11678,
          30521,
          23523,
          16876,
          30750,
          19414,
          11773,
          23349,
          30660,
          16847,
          23560,
          29093,
          16966,
          11686,
          23783,
          23965,
          11756,
          23327,
          17009,
          11727,
          23611,
          24456,
          16999,
          11789,
          17045,
          23262,
          28957,
          16930,
          17077,
          24616,
          17131,
          14094,
          23946,
          23893,
          24120,
          11748,
          11027,
          10822,
          11828,
          16969,
          23608,
          23147,
          11837,
          16945,
          11764,
          24077,
          24526,
          23704,
          10193,
          10123,
          23795,
          20790,
          16997,
          16910,
          23193,
          16909,
          10181,
          11053,
          23306,
          11742,
          10508,
          22905,
          11714,
          16848,
          11755,
          17123,
          23258,
          17135,
          16940,
          24400,
          10507,
          34339,
          11718,
          22562,
          16949,
          10194,
          23590,
          16902,
          16868,
          16863,
          11785,
          11733,
          17100,
          23125,
          11677,
          10001,
          11482,
          11802,
          23702,
          41253,
          23781,
          11804,
          11821,
          28964,
          17004,
          11689,
          24477,
          24046,
          21772,
          23546,
          11676,
          32674,
          23847,
          17091,
          11712,
          11717,
          10915,
          23770,
          17068,
          11807,
          23816,
          16870,
          23896,
          11825,
          10682,
          26123,
          26347,
          10049,
          26035,
          24498,
          11683,
          11194,
          16873,
          23804,
          22510,
          16914,
          20700,
          16996,
          11741,
          16938,
          16864,
          16947,
          11798,
          11720,
          23218,
          40638,
          23604,
          23788,
          20889,
          23488,
          17054,
          29000,
          28901,
          10443,
          24590,
          10506,
          23908,
          10301,
          11810,
          24346,
          23634,
          24087,
          10775,
          23841,
          24287,
          17029,
          23302,
          11417,
          11688,
          23999,
          23990,
          16898,
          11823,
          21450,
          23515,
          23518,
          23874,
          11815,
          23514,
          23547,
          24257,
          23516,
          16866,
          11698,
          11723,
          11696,
          28992,
          10384,
          20732,
          23015,
          11674,
          24565,
          28902,
          17106,
          11685,
          24043,
          24088,
          21190,
          12010,
          22549,
          24550,
          16924,
          23520,
          11796,
          23782,
          22910,
          23003,
          10817,
          25965,
          11055,
          23273,
          11700,
          11831,
          23577,
          16965,
          10846,
          11049,
          23934,
          23245,
          24027,
          26819,
          16874,
          22978,
          11699,
          40469,
          28945,
          17025,
          24006,
          11753,
          23880,
          23283,
          17092,
          24537,
          11713,
          22538,
          16890,
          23710,
          23653,
          11687,
          17051,
          11757,
          34143,
          24024,
          10200,
          23549,
          12913,
          11824,
          17066,
          17117,
          23786,
          24076,
          26556,
          11814,
          11715,
          11728,
          23452,
          11709,
          24568,
          23959,
          23379,
          15617,
          11788,
          23661,
          11079,
          23815,
          10509,
          11711,
          23459,
          13176,
          37399,
          23358,
          23712,
          11048,
          17093,
          23799,
          11679,
          23241,
          16883,
          16968,
          11762,
          11766,
          23483,
          23378,
          17076,
          23652,
          23744,
          24561,
          30837,
          23310,
          11059,
          11769,
          17084,
          11724,
          23692,
          11797,
          23464,
          11781,
          10690,
          16926,
          23599,
          23942,
          23089,
          23179,
          16892,
          24223,
          23962,
          23545,
          23561,
          24502,
          23371,
          23988,
          25308,
          23257,
          23357,
          23818,
          23954,
          16854,
          24573,
          11801,
          23716,
          11805,
          16879,
          23759,
          14124,
          23796,
          24334,
          10708,
          11075,
          11080,
          11830,
          17047,
          23180,
          10826,
          11478,
          23571,
          11238,
          23539,
          16967,
          22513,
          18817,
          16982,
          10791,
          11763,
          17034,
          16859,
          22519,
          24535,
          23668,
          23728,
          23377,
          20910,
          23654,
          23605,
          16888,
          22523,
          23613,
          23187,
          24516,
          23221,
          10782,
          16950,
          17086,
          24138,
          24244,
          17118,
          23279,
          22742,
          11671,
          11469,
          11739,
          25966,
          23338,
          11779,
          23860,
          16025,
          11487,
          10210,
          10410,
          28960,
          11716,
          20671,
          27476,
          24562,
          16903,
          24083,
          38949,
          10424,
          11775,
          23356,
          23554,
          11721,
          16939,
          23553,
          10858,
          11046,
          32383,
          17036,
          11085,
          16916,
          11704,
          23385,
          23601,
          24005,
          16882,
          11701,
          10784,
          11199,
          23754,
          24354,
          23607,
          24299,
          11771,
          17128,
          10619,
          23266,
          24366,
          23287,
          34401,
          23588,
          17065,
          23477,
          15766,
          15920,
          23681,
          29013,
          17035,
          24132,
          16849,
          23603,
          23542,
          23699,
          23670,
          23663,
          23672,
          27572,
          17085,
          11822,
          23569,
          29027,
          23658,
          23772,
          23706,
          24028,
          16858,
          25967,
          24613,
          11042,
          24035,
          21915,
          23191,
          37000,
          23501,
          24378,
          23979,
          16907,
          23298,
          24014,
          23764,
          23775,
          23509,
          23983,
          23980,
          17044,
          23332,
          11738,
          23768,
          11794,
          11772,
          23968,
          11690,
          17125,
          23953,
          16855,
          24542,
          23578,
          27450,
          15921,
          24607,
          17008,
          29111,
          11661,
          23947,
          23969,
          24136,
          10783,
          23671,
          23727,
          23586,
          23486,
          16920,
          24229,
          23899,
          23984,
          23294,
          16900,
          17043,
          24513,
          23585,
          23757,
          16852,
          23383,
          23659,
          23644,
          23376,
          23543,
          23186,
          22906,
          24577,
          23677,
          23814,
          10370,
          23714,
          23765,
          16936,
          24463,
          13623,
          23237,
          24030,
          30786,
          16951,
          40004,
          23985,
          19291,
          25870,
          23961,
          16875,
          16904,
          23992,
          24611,
          32382,
          23693,
          23381,
          23756,
          23612,
          14553,
          23648,
          10019,
          23592,
          23981,
          23471,
          23649,
          23720,
          23610,
          23615,
          24090,
          17030,
          32612,
          23182,
          10061,
          23758,
          23312,
          22528,
          23763,
          11833,
          23296,
          23311,
          22976,
          23529,
          28959,
          23524,
          23867,
          23503,
          24170,
          24104,
          23966,
          25156,
          30783,
          23970,
          28958,
          23624,
          24450,
          16932,
          23551,
          23628,
          23548,
          23640,
          23803,
          23643,
          24849,
          16921,
          16850,
          24029,
          23733,
          39312,
          23600,
          22521,
          23674,
          23642,
          23614,
          23715,
          23504,
          23725,
          23806,
          23351,
          23475,
          23321,
          23466,
          23705,
          23718,
          23964,
          16877,
          31257,
          13793,
          17042,
          16913,
          23183,
          23185,
          23189
         ],
         "xaxis": "x",
         "y": [
          14205,
          10697,
          8798,
          8426,
          8330,
          8218,
          7902,
          7670,
          7638,
          6913,
          6322,
          6242,
          6188,
          6088,
          5991,
          5982,
          5833,
          5648,
          5448,
          5341,
          5106,
          4918,
          4875,
          4839,
          4822,
          4680,
          4583,
          4572,
          4535,
          4450,
          4305,
          4240,
          4237,
          4211,
          4146,
          4101,
          4093,
          4059,
          4035,
          4011,
          3999,
          3946,
          3929,
          3924,
          3892,
          3861,
          3860,
          3840,
          3782,
          3775,
          3775,
          3741,
          3718,
          3688,
          3665,
          3632,
          3631,
          3626,
          3623,
          3616,
          3590,
          3563,
          3558,
          3557,
          3513,
          3512,
          3452,
          3330,
          3300,
          3279,
          3237,
          3203,
          3125,
          3124,
          3072,
          3046,
          3000,
          2988,
          2943,
          2930,
          2907,
          2899,
          2895,
          2890,
          2823,
          2817,
          2816,
          2785,
          2780,
          2760,
          2756,
          2749,
          2737,
          2737,
          2719,
          2714,
          2712,
          2709,
          2698,
          2691,
          2673,
          2630,
          2626,
          2574,
          2559,
          2556,
          2555,
          2545,
          2523,
          2507,
          2504,
          2492,
          2471,
          2454,
          2446,
          2445,
          2439,
          2424,
          2415,
          2409,
          2390,
          2379,
          2367,
          2362,
          2356,
          2335,
          2334,
          2314,
          2307,
          2279,
          2279,
          2257,
          2245,
          2227,
          2202,
          2189,
          2186,
          2185,
          2169,
          2169,
          2166,
          2157,
          2155,
          2141,
          2134,
          2130,
          2122,
          2121,
          2121,
          2119,
          2117,
          2116,
          2116,
          2108,
          2105,
          2092,
          2076,
          2064,
          2056,
          2049,
          2034,
          2030,
          2030,
          2024,
          2019,
          2014,
          2013,
          2003,
          1995,
          1994,
          1986,
          1981,
          1980,
          1974,
          1974,
          1968,
          1958,
          1951,
          1945,
          1941,
          1916,
          1914,
          1906,
          1905,
          1904,
          1898,
          1889,
          1881,
          1878,
          1865,
          1864,
          1854,
          1844,
          1837,
          1822,
          1820,
          1816,
          1816,
          1813,
          1808,
          1801,
          1798,
          1783,
          1779,
          1777,
          1755,
          1751,
          1747,
          1746,
          1735,
          1729,
          1729,
          1727,
          1725,
          1722,
          1718,
          1716,
          1714,
          1713,
          1700,
          1696,
          1686,
          1683,
          1680,
          1671,
          1657,
          1656,
          1654,
          1640,
          1633,
          1631,
          1626,
          1619,
          1619,
          1614,
          1613,
          1613,
          1609,
          1603,
          1590,
          1583,
          1566,
          1564,
          1562,
          1558,
          1549,
          1548,
          1547,
          1546,
          1544,
          1544,
          1544,
          1541,
          1537,
          1535,
          1535,
          1534,
          1533,
          1532,
          1532,
          1512,
          1512,
          1506,
          1506,
          1503,
          1502,
          1501,
          1491,
          1488,
          1487,
          1479,
          1478,
          1478,
          1473,
          1466,
          1464,
          1463,
          1452,
          1436,
          1432,
          1426,
          1419,
          1413,
          1392,
          1384,
          1384,
          1384,
          1383,
          1381,
          1377,
          1377,
          1376,
          1375,
          1368,
          1364,
          1361,
          1360,
          1355,
          1352,
          1350,
          1349,
          1348,
          1344,
          1341,
          1338,
          1336,
          1334,
          1323,
          1322,
          1314,
          1314,
          1313,
          1311,
          1305,
          1304,
          1303,
          1303,
          1294,
          1289,
          1287,
          1281,
          1266,
          1264,
          1262,
          1261,
          1259,
          1259,
          1255,
          1254,
          1248,
          1247,
          1244,
          1244,
          1240,
          1238,
          1237,
          1230,
          1230,
          1227,
          1227,
          1219,
          1212,
          1205,
          1204,
          1204,
          1203,
          1200,
          1199,
          1197,
          1196,
          1191,
          1189,
          1188,
          1186,
          1186,
          1183,
          1181,
          1179,
          1178,
          1173,
          1169,
          1167,
          1166,
          1165,
          1164,
          1158,
          1156,
          1153,
          1153,
          1150,
          1150,
          1149,
          1143,
          1141,
          1139,
          1139,
          1137,
          1132,
          1131,
          1126,
          1124,
          1121,
          1118,
          1115,
          1115,
          1113,
          1107,
          1103,
          1101,
          1100,
          1087,
          1087,
          1087,
          1087,
          1083,
          1076,
          1073,
          1067,
          1066,
          1064,
          1062,
          1061,
          1059,
          1059,
          1052,
          1052,
          1050,
          1047,
          1044,
          1043,
          1040,
          1037,
          1034,
          1031,
          1030,
          1026,
          1026,
          1025,
          1023,
          1020,
          1018,
          1018,
          1018,
          1015,
          1013,
          1012,
          1011,
          1008,
          1005,
          1005,
          998,
          996,
          996,
          994,
          992,
          990,
          989,
          987,
          985,
          984,
          983,
          982,
          981,
          976,
          975,
          975,
          974,
          966,
          965,
          965,
          964,
          956,
          956,
          955,
          952,
          952,
          949,
          949,
          949,
          947,
          947,
          945,
          944,
          944,
          940,
          938,
          937,
          936,
          934,
          934,
          933,
          930,
          930,
          927,
          922,
          922,
          921,
          919,
          918,
          918,
          918,
          917,
          916,
          915,
          913,
          907,
          904,
          899,
          897,
          896,
          895,
          895,
          893,
          889,
          888,
          886,
          885,
          884,
          883,
          882,
          881,
          878,
          878,
          878,
          876,
          875,
          870,
          869,
          867,
          863,
          860,
          860,
          859,
          854,
          850,
          850,
          848,
          846,
          845,
          844,
          841,
          841,
          841,
          841,
          839,
          839,
          838,
          837,
          836,
          836,
          835,
          835,
          832,
          831,
          831,
          828,
          828,
          826,
          826,
          826,
          822,
          821,
          819,
          818,
          817,
          816,
          814,
          814,
          809,
          809,
          804,
          804,
          802,
          796,
          794,
          793,
          792,
          788,
          787,
          786,
          784,
          781,
          781,
          781,
          780,
          774,
          770,
          769,
          769,
          763,
          761,
          761,
          757,
          757,
          756,
          755,
          754,
          752,
          751,
          748,
          747,
          746,
          746,
          745,
          741,
          740,
          739,
          739,
          736,
          736,
          733,
          730,
          730,
          729,
          729,
          726,
          726,
          723,
          722,
          722,
          720,
          720,
          718,
          718,
          717,
          717,
          716,
          714,
          713,
          711,
          708,
          707,
          705,
          705,
          705,
          703,
          702,
          701,
          700,
          697,
          697,
          696,
          695,
          694,
          690,
          690,
          689,
          689,
          687,
          685,
          685,
          684,
          683,
          683,
          683,
          683,
          682,
          682,
          680,
          678,
          677,
          677,
          676,
          675,
          674,
          673,
          672,
          670,
          669,
          669,
          667,
          666,
          665,
          664,
          661,
          661,
          660,
          660,
          659,
          657,
          656,
          656,
          654,
          652,
          650,
          649,
          648,
          648,
          647,
          647,
          647,
          645,
          643,
          642,
          640,
          639,
          638,
          637,
          637,
          636,
          636,
          633,
          631,
          631,
          629,
          628,
          628,
          625,
          623,
          623,
          622,
          621,
          621,
          621,
          621,
          619,
          618,
          617,
          616,
          616,
          615,
          612,
          610,
          610,
          608,
          608,
          606,
          605,
          600,
          599,
          599,
          597,
          596,
          594,
          591,
          590,
          587,
          584,
          583,
          582,
          578,
          578,
          577,
          576,
          576,
          574,
          573,
          573,
          572,
          572,
          571,
          570,
          569,
          566,
          566,
          566,
          565,
          565,
          565,
          564,
          564,
          563,
          563,
          562,
          561,
          561,
          560,
          558,
          556,
          555,
          554,
          554,
          553,
          553,
          550,
          550,
          547,
          547,
          541,
          539,
          538,
          537,
          536,
          534,
          534,
          534,
          534,
          533,
          532,
          530,
          530,
          528,
          527,
          527,
          527,
          526,
          525,
          525,
          524,
          524,
          523,
          523,
          522,
          520,
          520,
          520,
          516,
          516,
          515,
          515,
          513,
          513,
          510,
          510,
          509,
          509,
          507,
          505,
          505,
          503,
          502,
          502,
          500,
          500,
          500,
          498,
          497,
          494,
          494,
          491,
          488,
          488,
          487,
          487,
          486,
          486,
          486,
          486,
          484,
          484,
          483,
          482,
          482,
          482,
          481,
          479,
          476,
          476,
          476,
          475,
          475,
          474,
          474,
          474,
          473,
          472,
          472,
          472,
          471,
          470,
          467,
          467,
          466,
          465,
          464,
          464,
          463,
          462,
          461,
          460,
          459,
          459,
          458,
          458,
          457,
          456,
          454,
          453,
          453,
          453,
          450,
          450,
          449,
          448,
          448,
          448,
          446,
          445,
          445,
          443,
          442,
          442,
          442,
          439,
          436,
          436,
          435,
          434,
          433,
          432,
          432,
          432,
          431,
          431,
          430,
          428,
          427,
          426,
          425,
          425,
          425,
          423,
          423,
          422,
          422,
          422,
          420,
          419,
          419,
          419,
          418,
          418,
          417,
          417,
          416,
          416,
          415,
          414,
          414,
          412,
          411,
          410,
          409,
          408,
          407,
          406,
          406,
          405,
          403,
          403,
          403,
          402,
          401,
          399,
          399,
          398,
          398,
          398,
          396,
          396,
          394,
          392,
          392,
          392,
          390,
          390,
          390,
          390,
          390,
          389,
          389,
          389,
          389,
          389,
          388,
          387,
          387,
          386,
          386,
          385,
          384,
          383,
          383,
          383,
          383,
          382,
          381,
          380,
          379,
          378,
          378,
          378,
          377,
          377,
          377,
          377,
          374,
          371,
          371,
          371,
          369,
          369,
          368,
          368,
          365,
          365,
          365,
          365,
          364,
          363,
          363,
          363,
          362,
          362,
          361,
          360,
          359,
          359,
          358,
          358,
          356,
          356,
          355,
          355,
          354,
          353,
          353,
          353,
          352,
          352,
          352,
          352,
          352,
          350,
          349,
          349,
          349,
          348,
          348,
          347,
          346,
          346,
          345,
          345,
          344,
          344,
          343,
          343,
          342,
          342,
          340,
          340,
          340,
          338,
          337,
          337,
          337,
          336,
          336,
          335,
          335,
          335,
          334,
          333,
          333,
          331,
          331,
          330,
          329,
          329,
          329,
          328,
          328,
          327,
          327,
          327,
          326,
          326,
          324,
          323,
          323,
          323,
          323,
          322,
          322,
          322,
          322,
          322,
          321,
          320,
          320,
          319,
          319,
          319,
          319,
          318,
          318,
          318,
          317,
          316,
          315,
          315,
          314,
          314,
          314,
          314,
          313,
          312,
          312,
          312,
          310,
          310,
          310,
          307,
          306,
          306,
          306,
          303,
          303,
          303,
          303,
          301,
          300,
          298,
          298,
          298,
          298,
          297,
          297,
          297,
          296,
          295,
          295,
          293,
          293,
          293,
          293,
          293,
          292,
          292,
          292,
          291,
          291,
          289,
          289,
          287,
          287,
          287,
          287,
          287,
          286,
          286,
          284,
          283,
          282,
          282,
          281,
          281,
          281,
          280,
          280,
          279,
          279,
          278,
          278,
          276,
          276,
          276,
          275,
          275,
          274,
          274,
          274,
          273,
          272,
          272,
          270,
          270,
          270,
          270,
          270,
          269,
          269,
          268,
          268,
          267,
          267,
          266,
          266,
          266,
          266,
          265,
          263,
          263,
          263,
          263,
          261,
          261,
          260,
          259,
          259,
          259,
          258,
          256,
          256,
          256,
          256,
          256,
          255,
          255,
          254,
          253,
          253,
          253,
          253,
          252,
          252,
          251,
          251,
          251,
          251,
          250,
          248,
          248,
          247,
          246,
          246,
          246,
          246,
          246,
          246,
          246,
          245,
          245,
          245,
          244,
          244,
          244,
          244,
          243,
          243,
          241,
          241,
          240,
          240,
          240,
          240,
          239,
          238,
          237,
          237,
          237,
          236,
          236,
          235,
          234,
          234,
          232,
          231,
          231,
          231,
          231,
          228,
          228,
          228,
          228,
          227,
          226,
          225,
          225,
          224,
          224,
          224,
          224,
          223,
          222,
          220,
          220,
          220,
          219,
          218,
          218,
          217,
          217,
          216,
          216,
          213,
          212,
          211,
          211,
          211,
          211,
          209,
          209,
          209,
          208,
          208,
          207,
          207,
          207,
          205,
          205,
          205,
          204,
          203,
          203,
          203,
          203,
          202,
          202,
          200,
          200,
          200,
          199,
          199,
          198,
          198,
          197,
          197,
          197,
          196,
          196,
          196,
          196,
          196,
          196,
          195,
          195,
          194,
          194,
          193,
          193,
          193,
          192,
          191,
          191,
          189,
          189,
          189,
          189,
          189,
          188,
          187,
          186,
          185,
          185,
          185,
          185,
          185,
          184,
          184,
          182,
          182,
          182,
          181,
          180,
          180,
          179,
          179,
          179,
          179,
          179,
          179,
          177,
          174,
          173,
          173,
          173,
          173,
          172,
          171,
          171,
          171,
          170,
          170,
          170,
          170,
          170,
          170,
          169,
          169,
          168,
          168,
          168,
          168,
          167,
          167,
          166,
          166,
          166,
          165,
          165,
          165,
          165,
          165,
          164,
          163,
          163,
          163,
          163,
          162,
          161,
          161,
          161,
          161,
          160,
          160,
          160,
          159,
          158,
          157,
          157,
          157,
          156,
          156,
          156,
          156,
          156,
          156,
          156,
          155,
          155,
          154,
          154,
          154,
          153,
          153,
          152,
          152,
          151,
          151,
          151,
          151,
          150,
          150,
          150,
          150,
          150,
          150,
          149,
          148,
          148,
          147,
          147,
          147,
          146,
          145,
          145,
          144,
          144,
          144,
          144,
          143,
          143,
          143,
          142,
          141,
          141,
          141,
          140,
          140,
          140,
          139,
          139,
          139,
          138,
          138,
          138,
          138,
          138,
          137,
          137,
          137,
          137,
          136,
          135,
          135,
          135,
          135,
          134,
          133,
          133,
          133,
          133,
          132,
          132,
          132,
          132,
          131,
          131,
          131,
          130,
          130,
          130,
          129,
          129,
          128,
          128,
          128,
          127,
          127,
          126,
          126,
          125,
          125,
          125,
          124,
          124,
          124,
          124,
          123,
          123,
          123,
          123,
          122,
          122,
          122,
          122,
          122,
          121,
          121,
          121,
          121,
          120,
          120,
          120,
          120,
          120,
          120,
          120,
          119,
          119,
          119,
          118,
          118,
          118,
          118,
          118,
          117,
          117,
          116,
          115,
          115,
          115,
          115,
          115,
          115,
          115,
          114,
          114,
          114,
          114,
          114,
          114,
          114,
          114,
          113,
          113,
          113,
          113,
          112,
          112,
          112,
          112,
          112,
          111,
          111,
          111,
          111,
          110,
          110,
          109,
          109,
          109,
          108,
          108,
          108,
          108,
          107,
          107,
          107,
          107,
          106,
          106,
          106,
          106,
          106,
          106,
          105,
          105,
          105,
          105,
          105,
          105,
          105,
          105,
          104,
          104,
          104,
          104,
          104,
          103,
          103,
          102,
          102,
          101,
          101,
          100,
          100,
          100,
          100,
          100,
          100,
          100,
          100,
          99,
          99,
          99,
          98,
          98,
          98,
          98,
          97,
          97,
          97,
          97,
          97,
          97,
          96,
          96,
          96,
          96,
          95,
          95,
          95,
          95,
          94,
          94,
          94,
          93,
          93,
          93,
          92,
          92,
          92,
          91,
          91,
          91,
          90,
          90,
          90,
          89,
          89,
          89,
          89,
          89,
          88,
          88,
          88,
          88,
          87,
          87,
          87,
          86,
          86,
          86,
          85,
          84,
          84,
          84,
          84,
          83,
          83,
          83,
          83,
          83,
          82,
          82,
          82,
          82,
          82,
          80,
          80,
          80,
          80,
          80,
          80,
          80,
          80,
          79,
          79,
          79,
          79,
          79,
          78,
          78,
          78,
          78,
          78,
          78,
          78,
          78,
          77,
          77,
          77,
          77,
          77,
          77,
          76,
          76,
          76,
          76,
          75,
          75,
          75,
          75,
          75,
          75,
          74,
          74,
          74,
          73,
          73,
          73,
          73,
          73,
          73,
          73,
          73,
          72,
          72,
          72,
          71,
          71,
          71,
          71,
          71,
          71,
          70,
          70,
          70,
          70,
          70,
          69,
          69,
          69,
          69,
          68,
          68,
          68,
          68,
          68,
          68,
          68,
          68,
          67,
          67,
          67,
          67,
          66,
          66,
          65,
          65,
          65,
          65,
          64,
          64,
          64,
          64,
          64,
          64,
          64,
          63,
          63,
          63,
          63,
          62,
          62,
          62,
          62,
          62,
          62,
          62,
          62,
          61,
          61,
          61,
          61,
          60,
          60,
          60,
          60,
          60,
          60,
          59,
          59,
          59,
          59,
          59,
          59,
          58,
          58,
          58,
          58,
          58,
          58,
          58,
          58,
          58,
          57,
          57,
          57,
          56,
          56,
          56,
          56,
          56,
          56,
          55,
          55,
          55,
          55,
          55,
          55,
          55,
          55,
          54,
          54,
          54,
          54,
          54,
          54,
          54,
          54,
          54,
          54,
          54,
          53,
          53,
          53,
          53,
          53,
          53,
          53,
          53,
          52,
          52,
          52,
          52,
          52,
          52,
          52,
          52,
          52,
          52,
          52,
          52,
          51,
          51,
          51,
          51,
          50,
          50,
          50,
          50,
          50,
          50,
          50,
          49,
          49,
          49,
          49,
          49,
          49,
          49,
          48,
          48,
          48,
          48,
          48,
          48,
          48,
          48,
          48,
          48,
          48,
          47,
          47,
          47,
          47,
          47,
          47,
          46,
          46,
          46,
          46,
          46,
          46,
          46,
          46,
          45,
          45,
          45,
          45,
          45,
          45,
          45,
          45,
          45,
          45,
          45,
          44,
          44,
          44,
          44,
          44,
          43,
          43,
          43,
          43,
          43,
          43,
          43,
          43,
          43,
          43,
          43,
          43,
          43,
          43,
          43,
          42,
          42,
          41,
          41,
          41,
          41,
          41,
          41,
          41,
          41,
          41,
          41,
          41,
          40,
          40,
          40,
          40,
          40,
          40,
          40,
          39,
          39,
          39,
          39,
          39,
          39,
          39,
          39,
          38,
          38,
          38,
          38,
          38,
          38,
          38,
          38,
          38,
          38,
          38,
          38,
          38,
          37,
          37,
          37,
          37,
          37,
          37,
          37,
          37,
          37,
          37,
          37,
          37,
          36,
          36,
          36,
          36,
          36,
          36,
          36,
          36,
          36,
          35,
          35,
          35,
          35,
          35,
          35,
          35,
          34,
          34,
          34,
          34,
          34,
          34,
          34,
          34,
          34,
          34,
          34,
          33,
          33,
          33,
          33,
          33,
          33,
          33,
          33,
          33,
          33,
          33,
          33,
          33,
          32,
          32,
          32,
          32,
          32,
          32,
          32,
          32,
          32,
          32,
          31,
          31,
          31,
          31,
          31,
          31,
          31,
          31,
          31,
          31,
          31,
          30,
          30,
          30,
          30,
          30,
          30,
          30,
          30,
          30,
          30,
          30,
          29,
          29,
          29,
          28,
          28,
          28,
          28,
          28,
          28,
          28,
          28,
          28,
          28,
          27,
          27,
          27,
          27,
          27,
          27,
          27,
          27,
          27,
          27,
          27,
          27,
          26,
          26,
          26,
          26,
          26,
          26,
          26,
          26,
          26,
          26,
          26,
          25,
          25,
          25,
          25,
          25,
          25,
          25,
          25,
          24,
          24,
          24,
          24,
          24,
          24,
          24,
          24,
          24,
          24,
          24,
          23,
          23,
          23,
          23,
          23,
          23,
          23,
          23,
          22,
          22,
          22,
          22,
          22,
          22,
          22,
          22,
          22,
          22,
          21,
          21,
          21,
          21,
          21,
          21,
          21,
          21,
          21,
          21,
          21,
          21,
          21,
          21,
          21,
          21,
          20,
          20,
          20,
          20,
          20,
          20,
          20,
          20,
          20,
          20,
          20,
          20,
          20,
          20,
          19,
          19,
          19,
          19,
          18,
          18,
          18,
          18,
          18,
          18,
          18,
          18,
          18,
          18,
          18,
          18,
          17,
          17,
          17,
          17,
          17,
          17,
          17,
          17,
          17,
          17,
          17,
          17,
          17,
          17,
          16,
          16,
          16,
          16,
          16,
          16,
          16,
          16,
          16,
          16,
          16,
          15,
          15,
          15,
          15,
          14,
          14,
          14,
          14,
          14,
          14,
          14,
          14,
          14,
          14,
          14,
          13,
          13,
          13,
          13,
          13,
          13,
          13,
          13,
          13,
          13,
          13,
          12,
          12,
          12,
          12,
          12,
          12,
          12,
          12,
          12,
          12,
          12,
          12,
          12,
          11,
          11,
          11,
          11,
          11,
          11,
          11,
          11,
          11,
          11,
          11,
          10,
          10,
          10,
          10,
          10,
          10,
          10,
          10,
          10,
          9,
          9,
          9,
          9,
          9,
          9,
          9,
          9,
          9,
          9,
          8,
          8,
          8,
          8,
          8,
          8,
          8,
          8,
          8,
          8,
          8,
          7,
          7,
          7,
          7,
          7,
          7,
          7,
          7,
          7,
          7,
          7,
          7,
          7,
          7,
          7,
          6,
          6,
          6,
          6,
          6,
          6,
          6,
          6,
          6,
          6,
          6,
          6,
          6,
          6,
          5,
          5,
          5,
          5,
          5,
          5,
          5,
          5,
          5,
          5,
          5,
          5,
          5,
          5,
          5,
          5,
          5,
          5,
          4,
          4,
          4,
          4,
          4,
          4,
          4,
          4,
          4,
          4,
          4,
          4,
          4,
          4,
          3,
          3,
          3,
          3,
          3,
          3,
          3,
          3,
          3,
          3,
          3,
          3,
          3,
          3,
          3,
          3,
          3,
          2,
          2,
          2,
          2,
          2,
          2,
          2,
          2,
          2,
          2,
          2,
          2,
          2,
          2,
          2,
          1,
          1,
          1,
          1,
          1,
          1,
          1,
          1,
          1,
          1,
          1,
          1,
          1,
          1,
          1,
          1,
          1,
          1,
          1,
          1,
          1,
          1,
          1,
          1,
          1
         ],
         "yaxis": "y"
        }
       ],
       "layout": {
        "barmode": "relative",
        "legend": {
         "tracegroupgap": 0
        },
        "margin": {
         "t": 60
        },
        "template": {
         "data": {
          "bar": [
           {
            "error_x": {
             "color": "#2a3f5f"
            },
            "error_y": {
             "color": "#2a3f5f"
            },
            "marker": {
             "line": {
              "color": "#E5ECF6",
              "width": 0.5
             },
             "pattern": {
              "fillmode": "overlay",
              "size": 10,
              "solidity": 0.2
             }
            },
            "type": "bar"
           }
          ],
          "barpolar": [
           {
            "marker": {
             "line": {
              "color": "#E5ECF6",
              "width": 0.5
             },
             "pattern": {
              "fillmode": "overlay",
              "size": 10,
              "solidity": 0.2
             }
            },
            "type": "barpolar"
           }
          ],
          "carpet": [
           {
            "aaxis": {
             "endlinecolor": "#2a3f5f",
             "gridcolor": "white",
             "linecolor": "white",
             "minorgridcolor": "white",
             "startlinecolor": "#2a3f5f"
            },
            "baxis": {
             "endlinecolor": "#2a3f5f",
             "gridcolor": "white",
             "linecolor": "white",
             "minorgridcolor": "white",
             "startlinecolor": "#2a3f5f"
            },
            "type": "carpet"
           }
          ],
          "choropleth": [
           {
            "colorbar": {
             "outlinewidth": 0,
             "ticks": ""
            },
            "type": "choropleth"
           }
          ],
          "contour": [
           {
            "colorbar": {
             "outlinewidth": 0,
             "ticks": ""
            },
            "colorscale": [
             [
              0,
              "#0d0887"
             ],
             [
              0.1111111111111111,
              "#46039f"
             ],
             [
              0.2222222222222222,
              "#7201a8"
             ],
             [
              0.3333333333333333,
              "#9c179e"
             ],
             [
              0.4444444444444444,
              "#bd3786"
             ],
             [
              0.5555555555555556,
              "#d8576b"
             ],
             [
              0.6666666666666666,
              "#ed7953"
             ],
             [
              0.7777777777777778,
              "#fb9f3a"
             ],
             [
              0.8888888888888888,
              "#fdca26"
             ],
             [
              1,
              "#f0f921"
             ]
            ],
            "type": "contour"
           }
          ],
          "contourcarpet": [
           {
            "colorbar": {
             "outlinewidth": 0,
             "ticks": ""
            },
            "type": "contourcarpet"
           }
          ],
          "heatmap": [
           {
            "colorbar": {
             "outlinewidth": 0,
             "ticks": ""
            },
            "colorscale": [
             [
              0,
              "#0d0887"
             ],
             [
              0.1111111111111111,
              "#46039f"
             ],
             [
              0.2222222222222222,
              "#7201a8"
             ],
             [
              0.3333333333333333,
              "#9c179e"
             ],
             [
              0.4444444444444444,
              "#bd3786"
             ],
             [
              0.5555555555555556,
              "#d8576b"
             ],
             [
              0.6666666666666666,
              "#ed7953"
             ],
             [
              0.7777777777777778,
              "#fb9f3a"
             ],
             [
              0.8888888888888888,
              "#fdca26"
             ],
             [
              1,
              "#f0f921"
             ]
            ],
            "type": "heatmap"
           }
          ],
          "heatmapgl": [
           {
            "colorbar": {
             "outlinewidth": 0,
             "ticks": ""
            },
            "colorscale": [
             [
              0,
              "#0d0887"
             ],
             [
              0.1111111111111111,
              "#46039f"
             ],
             [
              0.2222222222222222,
              "#7201a8"
             ],
             [
              0.3333333333333333,
              "#9c179e"
             ],
             [
              0.4444444444444444,
              "#bd3786"
             ],
             [
              0.5555555555555556,
              "#d8576b"
             ],
             [
              0.6666666666666666,
              "#ed7953"
             ],
             [
              0.7777777777777778,
              "#fb9f3a"
             ],
             [
              0.8888888888888888,
              "#fdca26"
             ],
             [
              1,
              "#f0f921"
             ]
            ],
            "type": "heatmapgl"
           }
          ],
          "histogram": [
           {
            "marker": {
             "pattern": {
              "fillmode": "overlay",
              "size": 10,
              "solidity": 0.2
             }
            },
            "type": "histogram"
           }
          ],
          "histogram2d": [
           {
            "colorbar": {
             "outlinewidth": 0,
             "ticks": ""
            },
            "colorscale": [
             [
              0,
              "#0d0887"
             ],
             [
              0.1111111111111111,
              "#46039f"
             ],
             [
              0.2222222222222222,
              "#7201a8"
             ],
             [
              0.3333333333333333,
              "#9c179e"
             ],
             [
              0.4444444444444444,
              "#bd3786"
             ],
             [
              0.5555555555555556,
              "#d8576b"
             ],
             [
              0.6666666666666666,
              "#ed7953"
             ],
             [
              0.7777777777777778,
              "#fb9f3a"
             ],
             [
              0.8888888888888888,
              "#fdca26"
             ],
             [
              1,
              "#f0f921"
             ]
            ],
            "type": "histogram2d"
           }
          ],
          "histogram2dcontour": [
           {
            "colorbar": {
             "outlinewidth": 0,
             "ticks": ""
            },
            "colorscale": [
             [
              0,
              "#0d0887"
             ],
             [
              0.1111111111111111,
              "#46039f"
             ],
             [
              0.2222222222222222,
              "#7201a8"
             ],
             [
              0.3333333333333333,
              "#9c179e"
             ],
             [
              0.4444444444444444,
              "#bd3786"
             ],
             [
              0.5555555555555556,
              "#d8576b"
             ],
             [
              0.6666666666666666,
              "#ed7953"
             ],
             [
              0.7777777777777778,
              "#fb9f3a"
             ],
             [
              0.8888888888888888,
              "#fdca26"
             ],
             [
              1,
              "#f0f921"
             ]
            ],
            "type": "histogram2dcontour"
           }
          ],
          "mesh3d": [
           {
            "colorbar": {
             "outlinewidth": 0,
             "ticks": ""
            },
            "type": "mesh3d"
           }
          ],
          "parcoords": [
           {
            "line": {
             "colorbar": {
              "outlinewidth": 0,
              "ticks": ""
             }
            },
            "type": "parcoords"
           }
          ],
          "pie": [
           {
            "automargin": true,
            "type": "pie"
           }
          ],
          "scatter": [
           {
            "fillpattern": {
             "fillmode": "overlay",
             "size": 10,
             "solidity": 0.2
            },
            "type": "scatter"
           }
          ],
          "scatter3d": [
           {
            "line": {
             "colorbar": {
              "outlinewidth": 0,
              "ticks": ""
             }
            },
            "marker": {
             "colorbar": {
              "outlinewidth": 0,
              "ticks": ""
             }
            },
            "type": "scatter3d"
           }
          ],
          "scattercarpet": [
           {
            "marker": {
             "colorbar": {
              "outlinewidth": 0,
              "ticks": ""
             }
            },
            "type": "scattercarpet"
           }
          ],
          "scattergeo": [
           {
            "marker": {
             "colorbar": {
              "outlinewidth": 0,
              "ticks": ""
             }
            },
            "type": "scattergeo"
           }
          ],
          "scattergl": [
           {
            "marker": {
             "colorbar": {
              "outlinewidth": 0,
              "ticks": ""
             }
            },
            "type": "scattergl"
           }
          ],
          "scattermapbox": [
           {
            "marker": {
             "colorbar": {
              "outlinewidth": 0,
              "ticks": ""
             }
            },
            "type": "scattermapbox"
           }
          ],
          "scatterpolar": [
           {
            "marker": {
             "colorbar": {
              "outlinewidth": 0,
              "ticks": ""
             }
            },
            "type": "scatterpolar"
           }
          ],
          "scatterpolargl": [
           {
            "marker": {
             "colorbar": {
              "outlinewidth": 0,
              "ticks": ""
             }
            },
            "type": "scatterpolargl"
           }
          ],
          "scatterternary": [
           {
            "marker": {
             "colorbar": {
              "outlinewidth": 0,
              "ticks": ""
             }
            },
            "type": "scatterternary"
           }
          ],
          "surface": [
           {
            "colorbar": {
             "outlinewidth": 0,
             "ticks": ""
            },
            "colorscale": [
             [
              0,
              "#0d0887"
             ],
             [
              0.1111111111111111,
              "#46039f"
             ],
             [
              0.2222222222222222,
              "#7201a8"
             ],
             [
              0.3333333333333333,
              "#9c179e"
             ],
             [
              0.4444444444444444,
              "#bd3786"
             ],
             [
              0.5555555555555556,
              "#d8576b"
             ],
             [
              0.6666666666666666,
              "#ed7953"
             ],
             [
              0.7777777777777778,
              "#fb9f3a"
             ],
             [
              0.8888888888888888,
              "#fdca26"
             ],
             [
              1,
              "#f0f921"
             ]
            ],
            "type": "surface"
           }
          ],
          "table": [
           {
            "cells": {
             "fill": {
              "color": "#EBF0F8"
             },
             "line": {
              "color": "white"
             }
            },
            "header": {
             "fill": {
              "color": "#C8D4E3"
             },
             "line": {
              "color": "white"
             }
            },
            "type": "table"
           }
          ]
         },
         "layout": {
          "annotationdefaults": {
           "arrowcolor": "#2a3f5f",
           "arrowhead": 0,
           "arrowwidth": 1
          },
          "autotypenumbers": "strict",
          "coloraxis": {
           "colorbar": {
            "outlinewidth": 0,
            "ticks": ""
           }
          },
          "colorscale": {
           "diverging": [
            [
             0,
             "#8e0152"
            ],
            [
             0.1,
             "#c51b7d"
            ],
            [
             0.2,
             "#de77ae"
            ],
            [
             0.3,
             "#f1b6da"
            ],
            [
             0.4,
             "#fde0ef"
            ],
            [
             0.5,
             "#f7f7f7"
            ],
            [
             0.6,
             "#e6f5d0"
            ],
            [
             0.7,
             "#b8e186"
            ],
            [
             0.8,
             "#7fbc41"
            ],
            [
             0.9,
             "#4d9221"
            ],
            [
             1,
             "#276419"
            ]
           ],
           "sequential": [
            [
             0,
             "#0d0887"
            ],
            [
             0.1111111111111111,
             "#46039f"
            ],
            [
             0.2222222222222222,
             "#7201a8"
            ],
            [
             0.3333333333333333,
             "#9c179e"
            ],
            [
             0.4444444444444444,
             "#bd3786"
            ],
            [
             0.5555555555555556,
             "#d8576b"
            ],
            [
             0.6666666666666666,
             "#ed7953"
            ],
            [
             0.7777777777777778,
             "#fb9f3a"
            ],
            [
             0.8888888888888888,
             "#fdca26"
            ],
            [
             1,
             "#f0f921"
            ]
           ],
           "sequentialminus": [
            [
             0,
             "#0d0887"
            ],
            [
             0.1111111111111111,
             "#46039f"
            ],
            [
             0.2222222222222222,
             "#7201a8"
            ],
            [
             0.3333333333333333,
             "#9c179e"
            ],
            [
             0.4444444444444444,
             "#bd3786"
            ],
            [
             0.5555555555555556,
             "#d8576b"
            ],
            [
             0.6666666666666666,
             "#ed7953"
            ],
            [
             0.7777777777777778,
             "#fb9f3a"
            ],
            [
             0.8888888888888888,
             "#fdca26"
            ],
            [
             1,
             "#f0f921"
            ]
           ]
          },
          "colorway": [
           "#636efa",
           "#EF553B",
           "#00cc96",
           "#ab63fa",
           "#FFA15A",
           "#19d3f3",
           "#FF6692",
           "#B6E880",
           "#FF97FF",
           "#FECB52"
          ],
          "font": {
           "color": "#2a3f5f"
          },
          "geo": {
           "bgcolor": "white",
           "lakecolor": "white",
           "landcolor": "#E5ECF6",
           "showlakes": true,
           "showland": true,
           "subunitcolor": "white"
          },
          "hoverlabel": {
           "align": "left"
          },
          "hovermode": "closest",
          "mapbox": {
           "style": "light"
          },
          "paper_bgcolor": "white",
          "plot_bgcolor": "#E5ECF6",
          "polar": {
           "angularaxis": {
            "gridcolor": "white",
            "linecolor": "white",
            "ticks": ""
           },
           "bgcolor": "#E5ECF6",
           "radialaxis": {
            "gridcolor": "white",
            "linecolor": "white",
            "ticks": ""
           }
          },
          "scene": {
           "xaxis": {
            "backgroundcolor": "#E5ECF6",
            "gridcolor": "white",
            "gridwidth": 2,
            "linecolor": "white",
            "showbackground": true,
            "ticks": "",
            "zerolinecolor": "white"
           },
           "yaxis": {
            "backgroundcolor": "#E5ECF6",
            "gridcolor": "white",
            "gridwidth": 2,
            "linecolor": "white",
            "showbackground": true,
            "ticks": "",
            "zerolinecolor": "white"
           },
           "zaxis": {
            "backgroundcolor": "#E5ECF6",
            "gridcolor": "white",
            "gridwidth": 2,
            "linecolor": "white",
            "showbackground": true,
            "ticks": "",
            "zerolinecolor": "white"
           }
          },
          "shapedefaults": {
           "line": {
            "color": "#2a3f5f"
           }
          },
          "ternary": {
           "aaxis": {
            "gridcolor": "white",
            "linecolor": "white",
            "ticks": ""
           },
           "baxis": {
            "gridcolor": "white",
            "linecolor": "white",
            "ticks": ""
           },
           "bgcolor": "#E5ECF6",
           "caxis": {
            "gridcolor": "white",
            "linecolor": "white",
            "ticks": ""
           }
          },
          "title": {
           "x": 0.05
          },
          "xaxis": {
           "automargin": true,
           "gridcolor": "white",
           "linecolor": "white",
           "ticks": "",
           "title": {
            "standoff": 15
           },
           "zerolinecolor": "white",
           "zerolinewidth": 2
          },
          "yaxis": {
           "automargin": true,
           "gridcolor": "white",
           "linecolor": "white",
           "ticks": "",
           "title": {
            "standoff": 15
           },
           "zerolinecolor": "white",
           "zerolinewidth": 2
          }
         }
        },
        "title": {
         "text": "Number of establishment per id",
         "x": 0.5
        },
        "xaxis": {
         "anchor": "y",
         "domain": [
          0,
          1
         ],
         "title": {
          "text": "Establishment id"
         }
        },
        "yaxis": {
         "anchor": "x",
         "domain": [
          0,
          1
         ],
         "title": {
          "text": "Number of establishment"
         }
        }
       }
      }
     },
     "metadata": {},
     "output_type": "display_data"
    }
   ],
   "source": [
    "fig = px.histogram(\n",
    "    x=train_df['establishment_id'].value_counts().index,\n",
    "    y=train_df['establishment_id'].value_counts().values,\n",
    "    nbins=1000\n",
    ")\n",
    "fig.update_layout(\n",
    "    title=\"Number of establishment per id\",\n",
    "    xaxis_title=\"Establishment id\",\n",
    "    yaxis_title=\"Number of establishment\",\n",
    "    title_x=0.5\n",
    "    )\n",
    "fig.show()"
   ]
  },
  {
   "cell_type": "markdown",
   "metadata": {},
   "source": [
    "### Répartition des données par note globale"
   ]
  },
  {
   "cell_type": "code",
   "execution_count": 15,
   "metadata": {},
   "outputs": [
    {
     "data": {
      "text/plain": [
       "global_rate\n",
       "10.0    558106\n",
       "8.0     406099\n",
       "6.0     124108\n",
       "9.0      92938\n",
       "7.0      62841\n",
       "         ...  \n",
       "28.8         2\n",
       "27.2         2\n",
       "28.6         2\n",
       "18.4         1\n",
       "26.2         1\n",
       "Name: count, Length: 69, dtype: int64"
      ]
     },
     "execution_count": 15,
     "metadata": {},
     "output_type": "execute_result"
    }
   ],
   "source": [
    "train_df['global_rate'].value_counts()"
   ]
  },
  {
   "cell_type": "markdown",
   "metadata": {},
   "source": [
    "Valeurs manquantes"
   ]
  },
  {
   "cell_type": "code",
   "execution_count": 16,
   "metadata": {},
   "outputs": [
    {
     "data": {
      "text/plain": [
       "169"
      ]
     },
     "execution_count": 16,
     "metadata": {},
     "output_type": "execute_result"
    }
   ],
   "source": [
    "len(train_df[train_df['global_rate'].isna()])"
   ]
  },
  {
   "cell_type": "code",
   "execution_count": 17,
   "metadata": {},
   "outputs": [
    {
     "data": {
      "application/vnd.plotly.v1+json": {
       "config": {
        "plotlyServerURL": "https://plot.ly"
       },
       "data": [
        {
         "alignmentgroup": "True",
         "hovertemplate": "variable=count<br>global_rate=%{x}<br>value=%{y}<extra></extra>",
         "legendgroup": "count",
         "marker": {
          "color": "#636efa",
          "pattern": {
           "shape": ""
          }
         },
         "name": "count",
         "offsetgroup": "count",
         "orientation": "v",
         "showlegend": true,
         "textposition": "auto",
         "type": "bar",
         "x": [
          10,
          8,
          6,
          9,
          7,
          4,
          2,
          0,
          5,
          1,
          3,
          9.6,
          8.6,
          9.2,
          9.4,
          8.4,
          8.8,
          7.4,
          7.6,
          7.5,
          6.6,
          8.3,
          7.9,
          5.4,
          8.2,
          9.8,
          6.4,
          7.1,
          6.2,
          7.8,
          4.6,
          5.6,
          6.7,
          5.8,
          7.2,
          6.8,
          4.4,
          6.3,
          4.2,
          3.4,
          3.6,
          4.8,
          3.8,
          5.2,
          2.6,
          2.5,
          9.5,
          3.3,
          8.5,
          3.2,
          2.9,
          2.4,
          2.8,
          2.2,
          6.5,
          5.5,
          30,
          29.8,
          29.2,
          4.5,
          3.5,
          27.8,
          28.2,
          28,
          28.8,
          27.2,
          28.6,
          18.4,
          26.2
         ],
         "xaxis": "x",
         "y": [
          558106,
          406099,
          124108,
          92938,
          62841,
          61158,
          54828,
          24847,
          22671,
          8069,
          6653,
          3112,
          3076,
          2582,
          2460,
          2275,
          2262,
          2011,
          1829,
          1587,
          1306,
          1243,
          1036,
          971,
          947,
          826,
          822,
          763,
          688,
          660,
          647,
          639,
          539,
          528,
          437,
          386,
          272,
          210,
          205,
          195,
          171,
          153,
          151,
          125,
          81,
          69,
          63,
          51,
          43,
          42,
          35,
          30,
          27,
          12,
          10,
          6,
          6,
          6,
          5,
          4,
          4,
          3,
          2,
          2,
          2,
          2,
          2,
          1,
          1
         ],
         "yaxis": "y"
        }
       ],
       "layout": {
        "barmode": "relative",
        "legend": {
         "title": {
          "text": "variable"
         },
         "tracegroupgap": 0
        },
        "margin": {
         "t": 60
        },
        "template": {
         "data": {
          "bar": [
           {
            "error_x": {
             "color": "#2a3f5f"
            },
            "error_y": {
             "color": "#2a3f5f"
            },
            "marker": {
             "line": {
              "color": "#E5ECF6",
              "width": 0.5
             },
             "pattern": {
              "fillmode": "overlay",
              "size": 10,
              "solidity": 0.2
             }
            },
            "type": "bar"
           }
          ],
          "barpolar": [
           {
            "marker": {
             "line": {
              "color": "#E5ECF6",
              "width": 0.5
             },
             "pattern": {
              "fillmode": "overlay",
              "size": 10,
              "solidity": 0.2
             }
            },
            "type": "barpolar"
           }
          ],
          "carpet": [
           {
            "aaxis": {
             "endlinecolor": "#2a3f5f",
             "gridcolor": "white",
             "linecolor": "white",
             "minorgridcolor": "white",
             "startlinecolor": "#2a3f5f"
            },
            "baxis": {
             "endlinecolor": "#2a3f5f",
             "gridcolor": "white",
             "linecolor": "white",
             "minorgridcolor": "white",
             "startlinecolor": "#2a3f5f"
            },
            "type": "carpet"
           }
          ],
          "choropleth": [
           {
            "colorbar": {
             "outlinewidth": 0,
             "ticks": ""
            },
            "type": "choropleth"
           }
          ],
          "contour": [
           {
            "colorbar": {
             "outlinewidth": 0,
             "ticks": ""
            },
            "colorscale": [
             [
              0,
              "#0d0887"
             ],
             [
              0.1111111111111111,
              "#46039f"
             ],
             [
              0.2222222222222222,
              "#7201a8"
             ],
             [
              0.3333333333333333,
              "#9c179e"
             ],
             [
              0.4444444444444444,
              "#bd3786"
             ],
             [
              0.5555555555555556,
              "#d8576b"
             ],
             [
              0.6666666666666666,
              "#ed7953"
             ],
             [
              0.7777777777777778,
              "#fb9f3a"
             ],
             [
              0.8888888888888888,
              "#fdca26"
             ],
             [
              1,
              "#f0f921"
             ]
            ],
            "type": "contour"
           }
          ],
          "contourcarpet": [
           {
            "colorbar": {
             "outlinewidth": 0,
             "ticks": ""
            },
            "type": "contourcarpet"
           }
          ],
          "heatmap": [
           {
            "colorbar": {
             "outlinewidth": 0,
             "ticks": ""
            },
            "colorscale": [
             [
              0,
              "#0d0887"
             ],
             [
              0.1111111111111111,
              "#46039f"
             ],
             [
              0.2222222222222222,
              "#7201a8"
             ],
             [
              0.3333333333333333,
              "#9c179e"
             ],
             [
              0.4444444444444444,
              "#bd3786"
             ],
             [
              0.5555555555555556,
              "#d8576b"
             ],
             [
              0.6666666666666666,
              "#ed7953"
             ],
             [
              0.7777777777777778,
              "#fb9f3a"
             ],
             [
              0.8888888888888888,
              "#fdca26"
             ],
             [
              1,
              "#f0f921"
             ]
            ],
            "type": "heatmap"
           }
          ],
          "heatmapgl": [
           {
            "colorbar": {
             "outlinewidth": 0,
             "ticks": ""
            },
            "colorscale": [
             [
              0,
              "#0d0887"
             ],
             [
              0.1111111111111111,
              "#46039f"
             ],
             [
              0.2222222222222222,
              "#7201a8"
             ],
             [
              0.3333333333333333,
              "#9c179e"
             ],
             [
              0.4444444444444444,
              "#bd3786"
             ],
             [
              0.5555555555555556,
              "#d8576b"
             ],
             [
              0.6666666666666666,
              "#ed7953"
             ],
             [
              0.7777777777777778,
              "#fb9f3a"
             ],
             [
              0.8888888888888888,
              "#fdca26"
             ],
             [
              1,
              "#f0f921"
             ]
            ],
            "type": "heatmapgl"
           }
          ],
          "histogram": [
           {
            "marker": {
             "pattern": {
              "fillmode": "overlay",
              "size": 10,
              "solidity": 0.2
             }
            },
            "type": "histogram"
           }
          ],
          "histogram2d": [
           {
            "colorbar": {
             "outlinewidth": 0,
             "ticks": ""
            },
            "colorscale": [
             [
              0,
              "#0d0887"
             ],
             [
              0.1111111111111111,
              "#46039f"
             ],
             [
              0.2222222222222222,
              "#7201a8"
             ],
             [
              0.3333333333333333,
              "#9c179e"
             ],
             [
              0.4444444444444444,
              "#bd3786"
             ],
             [
              0.5555555555555556,
              "#d8576b"
             ],
             [
              0.6666666666666666,
              "#ed7953"
             ],
             [
              0.7777777777777778,
              "#fb9f3a"
             ],
             [
              0.8888888888888888,
              "#fdca26"
             ],
             [
              1,
              "#f0f921"
             ]
            ],
            "type": "histogram2d"
           }
          ],
          "histogram2dcontour": [
           {
            "colorbar": {
             "outlinewidth": 0,
             "ticks": ""
            },
            "colorscale": [
             [
              0,
              "#0d0887"
             ],
             [
              0.1111111111111111,
              "#46039f"
             ],
             [
              0.2222222222222222,
              "#7201a8"
             ],
             [
              0.3333333333333333,
              "#9c179e"
             ],
             [
              0.4444444444444444,
              "#bd3786"
             ],
             [
              0.5555555555555556,
              "#d8576b"
             ],
             [
              0.6666666666666666,
              "#ed7953"
             ],
             [
              0.7777777777777778,
              "#fb9f3a"
             ],
             [
              0.8888888888888888,
              "#fdca26"
             ],
             [
              1,
              "#f0f921"
             ]
            ],
            "type": "histogram2dcontour"
           }
          ],
          "mesh3d": [
           {
            "colorbar": {
             "outlinewidth": 0,
             "ticks": ""
            },
            "type": "mesh3d"
           }
          ],
          "parcoords": [
           {
            "line": {
             "colorbar": {
              "outlinewidth": 0,
              "ticks": ""
             }
            },
            "type": "parcoords"
           }
          ],
          "pie": [
           {
            "automargin": true,
            "type": "pie"
           }
          ],
          "scatter": [
           {
            "fillpattern": {
             "fillmode": "overlay",
             "size": 10,
             "solidity": 0.2
            },
            "type": "scatter"
           }
          ],
          "scatter3d": [
           {
            "line": {
             "colorbar": {
              "outlinewidth": 0,
              "ticks": ""
             }
            },
            "marker": {
             "colorbar": {
              "outlinewidth": 0,
              "ticks": ""
             }
            },
            "type": "scatter3d"
           }
          ],
          "scattercarpet": [
           {
            "marker": {
             "colorbar": {
              "outlinewidth": 0,
              "ticks": ""
             }
            },
            "type": "scattercarpet"
           }
          ],
          "scattergeo": [
           {
            "marker": {
             "colorbar": {
              "outlinewidth": 0,
              "ticks": ""
             }
            },
            "type": "scattergeo"
           }
          ],
          "scattergl": [
           {
            "marker": {
             "colorbar": {
              "outlinewidth": 0,
              "ticks": ""
             }
            },
            "type": "scattergl"
           }
          ],
          "scattermapbox": [
           {
            "marker": {
             "colorbar": {
              "outlinewidth": 0,
              "ticks": ""
             }
            },
            "type": "scattermapbox"
           }
          ],
          "scatterpolar": [
           {
            "marker": {
             "colorbar": {
              "outlinewidth": 0,
              "ticks": ""
             }
            },
            "type": "scatterpolar"
           }
          ],
          "scatterpolargl": [
           {
            "marker": {
             "colorbar": {
              "outlinewidth": 0,
              "ticks": ""
             }
            },
            "type": "scatterpolargl"
           }
          ],
          "scatterternary": [
           {
            "marker": {
             "colorbar": {
              "outlinewidth": 0,
              "ticks": ""
             }
            },
            "type": "scatterternary"
           }
          ],
          "surface": [
           {
            "colorbar": {
             "outlinewidth": 0,
             "ticks": ""
            },
            "colorscale": [
             [
              0,
              "#0d0887"
             ],
             [
              0.1111111111111111,
              "#46039f"
             ],
             [
              0.2222222222222222,
              "#7201a8"
             ],
             [
              0.3333333333333333,
              "#9c179e"
             ],
             [
              0.4444444444444444,
              "#bd3786"
             ],
             [
              0.5555555555555556,
              "#d8576b"
             ],
             [
              0.6666666666666666,
              "#ed7953"
             ],
             [
              0.7777777777777778,
              "#fb9f3a"
             ],
             [
              0.8888888888888888,
              "#fdca26"
             ],
             [
              1,
              "#f0f921"
             ]
            ],
            "type": "surface"
           }
          ],
          "table": [
           {
            "cells": {
             "fill": {
              "color": "#EBF0F8"
             },
             "line": {
              "color": "white"
             }
            },
            "header": {
             "fill": {
              "color": "#C8D4E3"
             },
             "line": {
              "color": "white"
             }
            },
            "type": "table"
           }
          ]
         },
         "layout": {
          "annotationdefaults": {
           "arrowcolor": "#2a3f5f",
           "arrowhead": 0,
           "arrowwidth": 1
          },
          "autotypenumbers": "strict",
          "coloraxis": {
           "colorbar": {
            "outlinewidth": 0,
            "ticks": ""
           }
          },
          "colorscale": {
           "diverging": [
            [
             0,
             "#8e0152"
            ],
            [
             0.1,
             "#c51b7d"
            ],
            [
             0.2,
             "#de77ae"
            ],
            [
             0.3,
             "#f1b6da"
            ],
            [
             0.4,
             "#fde0ef"
            ],
            [
             0.5,
             "#f7f7f7"
            ],
            [
             0.6,
             "#e6f5d0"
            ],
            [
             0.7,
             "#b8e186"
            ],
            [
             0.8,
             "#7fbc41"
            ],
            [
             0.9,
             "#4d9221"
            ],
            [
             1,
             "#276419"
            ]
           ],
           "sequential": [
            [
             0,
             "#0d0887"
            ],
            [
             0.1111111111111111,
             "#46039f"
            ],
            [
             0.2222222222222222,
             "#7201a8"
            ],
            [
             0.3333333333333333,
             "#9c179e"
            ],
            [
             0.4444444444444444,
             "#bd3786"
            ],
            [
             0.5555555555555556,
             "#d8576b"
            ],
            [
             0.6666666666666666,
             "#ed7953"
            ],
            [
             0.7777777777777778,
             "#fb9f3a"
            ],
            [
             0.8888888888888888,
             "#fdca26"
            ],
            [
             1,
             "#f0f921"
            ]
           ],
           "sequentialminus": [
            [
             0,
             "#0d0887"
            ],
            [
             0.1111111111111111,
             "#46039f"
            ],
            [
             0.2222222222222222,
             "#7201a8"
            ],
            [
             0.3333333333333333,
             "#9c179e"
            ],
            [
             0.4444444444444444,
             "#bd3786"
            ],
            [
             0.5555555555555556,
             "#d8576b"
            ],
            [
             0.6666666666666666,
             "#ed7953"
            ],
            [
             0.7777777777777778,
             "#fb9f3a"
            ],
            [
             0.8888888888888888,
             "#fdca26"
            ],
            [
             1,
             "#f0f921"
            ]
           ]
          },
          "colorway": [
           "#636efa",
           "#EF553B",
           "#00cc96",
           "#ab63fa",
           "#FFA15A",
           "#19d3f3",
           "#FF6692",
           "#B6E880",
           "#FF97FF",
           "#FECB52"
          ],
          "font": {
           "color": "#2a3f5f"
          },
          "geo": {
           "bgcolor": "white",
           "lakecolor": "white",
           "landcolor": "#E5ECF6",
           "showlakes": true,
           "showland": true,
           "subunitcolor": "white"
          },
          "hoverlabel": {
           "align": "left"
          },
          "hovermode": "closest",
          "mapbox": {
           "style": "light"
          },
          "paper_bgcolor": "white",
          "plot_bgcolor": "#E5ECF6",
          "polar": {
           "angularaxis": {
            "gridcolor": "white",
            "linecolor": "white",
            "ticks": ""
           },
           "bgcolor": "#E5ECF6",
           "radialaxis": {
            "gridcolor": "white",
            "linecolor": "white",
            "ticks": ""
           }
          },
          "scene": {
           "xaxis": {
            "backgroundcolor": "#E5ECF6",
            "gridcolor": "white",
            "gridwidth": 2,
            "linecolor": "white",
            "showbackground": true,
            "ticks": "",
            "zerolinecolor": "white"
           },
           "yaxis": {
            "backgroundcolor": "#E5ECF6",
            "gridcolor": "white",
            "gridwidth": 2,
            "linecolor": "white",
            "showbackground": true,
            "ticks": "",
            "zerolinecolor": "white"
           },
           "zaxis": {
            "backgroundcolor": "#E5ECF6",
            "gridcolor": "white",
            "gridwidth": 2,
            "linecolor": "white",
            "showbackground": true,
            "ticks": "",
            "zerolinecolor": "white"
           }
          },
          "shapedefaults": {
           "line": {
            "color": "#2a3f5f"
           }
          },
          "ternary": {
           "aaxis": {
            "gridcolor": "white",
            "linecolor": "white",
            "ticks": ""
           },
           "baxis": {
            "gridcolor": "white",
            "linecolor": "white",
            "ticks": ""
           },
           "bgcolor": "#E5ECF6",
           "caxis": {
            "gridcolor": "white",
            "linecolor": "white",
            "ticks": ""
           }
          },
          "title": {
           "x": 0.05
          },
          "xaxis": {
           "automargin": true,
           "gridcolor": "white",
           "linecolor": "white",
           "ticks": "",
           "title": {
            "standoff": 15
           },
           "zerolinecolor": "white",
           "zerolinewidth": 2
          },
          "yaxis": {
           "automargin": true,
           "gridcolor": "white",
           "linecolor": "white",
           "ticks": "",
           "title": {
            "standoff": 15
           },
           "zerolinecolor": "white",
           "zerolinewidth": 2
          }
         }
        },
        "title": {
         "text": "Repartition of global rates",
         "x": 0.5
        },
        "xaxis": {
         "anchor": "y",
         "domain": [
          0,
          1
         ],
         "title": {
          "text": "Global rate"
         }
        },
        "yaxis": {
         "anchor": "x",
         "domain": [
          0,
          1
         ],
         "title": {
          "text": "Count"
         }
        }
       }
      }
     },
     "metadata": {},
     "output_type": "display_data"
    }
   ],
   "source": [
    "fig = px.bar(train_df['global_rate'].value_counts())\n",
    "fig.update_layout(\n",
    "    title=\"Repartition of global rates\",\n",
    "    xaxis_title=\"Global rate\",\n",
    "    yaxis_title=\"Count\",\n",
    "    title_x=0.5\n",
    ")\n",
    "fig.show()"
   ]
  },
  {
   "cell_type": "markdown",
   "metadata": {},
   "source": [
    "Il faudra supprimer les lignes où la note globale est supérieure à 10 car elle s'apparentent à des valeurs aberrantes.   \n",
    "De même il faudra supprimer les valeurs manquantes.   \n",
    "Par la suite, nous allons transformer cette feature continue en feature discrète afin de réduire la complexité de la variabilité à capturer grâce au modèle."
   ]
  },
  {
   "cell_type": "markdown",
   "metadata": {},
   "source": [
    "### Méthodologie suivie à l'issue de l'exploration des données"
   ]
  },
  {
   "cell_type": "markdown",
   "metadata": {},
   "source": [
    "Suite à une rapide analyse préliminaire des données, il apparait que :   \n",
    "- La répartition par établissement présente un fort déséquilibre de classes et ne pourra être utilisée comme feature dans un modèle de prédiction de la note globale.   \n",
    "- La target (global_rate) présente des valeurs aberrantes et des valeurs manquantes à supprimer dans le jeu train. Par ailleurs, faisant l'hypothèse que la concordance entre le commentaire et la note ne se joue pas à un niveau aussi fin qu'un interval continu de 0 à 10, nous allons transformer cette variable en variable discrète en suivant la typologie utilisée pour le calcul du NPS (Promoter, Neutre, Détracteur).\n",
    "- La feature texte (review_text) présente des valeurs manquantes à supprimer dans les jeux train et test, ainsi que des caractères spéciaux (artefacts d'acquisition) à supprimer également.  \n",
    "\n",
    "Nous allons donc effectuer effectuer un premier nettoyage des jeux train et test comme suit :   \n",
    "- Suppression des valeurs aberrantes et manquantes dans la target (global_rate).\n",
    "- Suppression des valeurs manquantes de la feature texte.\n",
    "- Séparation du jeu train en train et validation (on va prendre 20% du jeu total dans le jeu de validation) et vérification de la répartition des notes dans chaque jeu.\n",
    "\n",
    "Puis, nous allons appliquer la méthodologie suivante :\n",
    "1. Entraînement du modèle :\n",
    "- Nettoyage de la feature texte (effectué lors du fit du modèle) avec suppression des catactères spéciaux, des chiffres et des stopwords.\n",
    "- Transformation de la target en suivant la typologie du NPS (Promoteur: global_rate>=9, Neutre: 7>=global_rate<9, Détracteur: global_rate<7).\n",
    "- Construction d'une pipeline avec un premier modèle NLP (ici Tfidf) et un second modèle de classification (Logistic Regression).\n",
    "- Fit de la pipeline en effectuant une cross validation et affichage de l'accuracy score, de la matrice de confusion et du rapport de classification sur le jeu de validation.\n",
    "- Sauvegarde du modèle\n",
    "2. Prédiction :\n",
    "- Chargement du modèle sauvegardé et du jeu test\n",
    "- Transformation de la target et prédiction sur le jeu test\n",
    "- Enregistrement des prédictions"
   ]
  },
  {
   "cell_type": "markdown",
   "metadata": {},
   "source": [
    "### Suppression des valeurs manquantes"
   ]
  },
  {
   "cell_type": "code",
   "execution_count": 18,
   "metadata": {},
   "outputs": [],
   "source": [
    "train_df.dropna(subset=['review_text'], inplace=True)\n",
    "train_df.dropna(subset=['global_rate'], inplace=True)\n",
    "test_df.dropna(subset=['review_text'], inplace=True)"
   ]
  },
  {
   "cell_type": "markdown",
   "metadata": {},
   "source": [
    "### Suppression des valeurs aberrantes"
   ]
  },
  {
   "cell_type": "code",
   "execution_count": 19,
   "metadata": {},
   "outputs": [],
   "source": [
    "indices_to_drop = train_df[train_df['global_rate'] > 10].index\n",
    "train_df.drop(indices_to_drop, inplace=True)"
   ]
  },
  {
   "cell_type": "markdown",
   "metadata": {},
   "source": [
    "### Séparation du train en train et validation"
   ]
  },
  {
   "cell_type": "code",
   "execution_count": 20,
   "metadata": {},
   "outputs": [],
   "source": [
    "validation_ratio = 0.2\n",
    "train_index = train_test_split(\n",
    "    train_df['review_text'], random_state=42, test_size=0.2\n",
    ")[0].index\n",
    "val_index = train_df.index.difference(train_index)\n",
    "val_df = train_df.loc[val_index]\n",
    "train_df = train_df.loc[train_index]"
   ]
  },
  {
   "cell_type": "markdown",
   "metadata": {},
   "source": [
    "### Vérification de la répartition de la target"
   ]
  },
  {
   "cell_type": "code",
   "execution_count": 21,
   "metadata": {},
   "outputs": [
    {
     "data": {
      "application/vnd.plotly.v1+json": {
       "config": {
        "plotlyServerURL": "https://plot.ly"
       },
       "data": [
        {
         "type": "bar",
         "x": [
          10,
          8,
          6,
          2,
          4,
          0,
          9,
          7,
          5,
          3,
          9.5,
          1,
          8.5,
          7.5,
          6.5,
          4.5,
          3.5
         ],
         "y": [
          318367,
          183735,
          68609,
          37988,
          37730,
          19827,
          584,
          212,
          74,
          30,
          29,
          27,
          12,
          9,
          3,
          2,
          2
         ]
        },
        {
         "type": "bar",
         "x": [
          10,
          8,
          6,
          2,
          4,
          0,
          9,
          7,
          5,
          3,
          9.5,
          1,
          8.5,
          7.5
         ],
         "y": [
          79412,
          46133,
          17172,
          9479,
          9345,
          5020,
          145,
          59,
          19,
          13,
          7,
          3,
          3,
          1
         ]
        }
       ],
       "layout": {
        "template": {
         "data": {
          "bar": [
           {
            "error_x": {
             "color": "#2a3f5f"
            },
            "error_y": {
             "color": "#2a3f5f"
            },
            "marker": {
             "line": {
              "color": "#E5ECF6",
              "width": 0.5
             },
             "pattern": {
              "fillmode": "overlay",
              "size": 10,
              "solidity": 0.2
             }
            },
            "type": "bar"
           }
          ],
          "barpolar": [
           {
            "marker": {
             "line": {
              "color": "#E5ECF6",
              "width": 0.5
             },
             "pattern": {
              "fillmode": "overlay",
              "size": 10,
              "solidity": 0.2
             }
            },
            "type": "barpolar"
           }
          ],
          "carpet": [
           {
            "aaxis": {
             "endlinecolor": "#2a3f5f",
             "gridcolor": "white",
             "linecolor": "white",
             "minorgridcolor": "white",
             "startlinecolor": "#2a3f5f"
            },
            "baxis": {
             "endlinecolor": "#2a3f5f",
             "gridcolor": "white",
             "linecolor": "white",
             "minorgridcolor": "white",
             "startlinecolor": "#2a3f5f"
            },
            "type": "carpet"
           }
          ],
          "choropleth": [
           {
            "colorbar": {
             "outlinewidth": 0,
             "ticks": ""
            },
            "type": "choropleth"
           }
          ],
          "contour": [
           {
            "colorbar": {
             "outlinewidth": 0,
             "ticks": ""
            },
            "colorscale": [
             [
              0,
              "#0d0887"
             ],
             [
              0.1111111111111111,
              "#46039f"
             ],
             [
              0.2222222222222222,
              "#7201a8"
             ],
             [
              0.3333333333333333,
              "#9c179e"
             ],
             [
              0.4444444444444444,
              "#bd3786"
             ],
             [
              0.5555555555555556,
              "#d8576b"
             ],
             [
              0.6666666666666666,
              "#ed7953"
             ],
             [
              0.7777777777777778,
              "#fb9f3a"
             ],
             [
              0.8888888888888888,
              "#fdca26"
             ],
             [
              1,
              "#f0f921"
             ]
            ],
            "type": "contour"
           }
          ],
          "contourcarpet": [
           {
            "colorbar": {
             "outlinewidth": 0,
             "ticks": ""
            },
            "type": "contourcarpet"
           }
          ],
          "heatmap": [
           {
            "colorbar": {
             "outlinewidth": 0,
             "ticks": ""
            },
            "colorscale": [
             [
              0,
              "#0d0887"
             ],
             [
              0.1111111111111111,
              "#46039f"
             ],
             [
              0.2222222222222222,
              "#7201a8"
             ],
             [
              0.3333333333333333,
              "#9c179e"
             ],
             [
              0.4444444444444444,
              "#bd3786"
             ],
             [
              0.5555555555555556,
              "#d8576b"
             ],
             [
              0.6666666666666666,
              "#ed7953"
             ],
             [
              0.7777777777777778,
              "#fb9f3a"
             ],
             [
              0.8888888888888888,
              "#fdca26"
             ],
             [
              1,
              "#f0f921"
             ]
            ],
            "type": "heatmap"
           }
          ],
          "heatmapgl": [
           {
            "colorbar": {
             "outlinewidth": 0,
             "ticks": ""
            },
            "colorscale": [
             [
              0,
              "#0d0887"
             ],
             [
              0.1111111111111111,
              "#46039f"
             ],
             [
              0.2222222222222222,
              "#7201a8"
             ],
             [
              0.3333333333333333,
              "#9c179e"
             ],
             [
              0.4444444444444444,
              "#bd3786"
             ],
             [
              0.5555555555555556,
              "#d8576b"
             ],
             [
              0.6666666666666666,
              "#ed7953"
             ],
             [
              0.7777777777777778,
              "#fb9f3a"
             ],
             [
              0.8888888888888888,
              "#fdca26"
             ],
             [
              1,
              "#f0f921"
             ]
            ],
            "type": "heatmapgl"
           }
          ],
          "histogram": [
           {
            "marker": {
             "pattern": {
              "fillmode": "overlay",
              "size": 10,
              "solidity": 0.2
             }
            },
            "type": "histogram"
           }
          ],
          "histogram2d": [
           {
            "colorbar": {
             "outlinewidth": 0,
             "ticks": ""
            },
            "colorscale": [
             [
              0,
              "#0d0887"
             ],
             [
              0.1111111111111111,
              "#46039f"
             ],
             [
              0.2222222222222222,
              "#7201a8"
             ],
             [
              0.3333333333333333,
              "#9c179e"
             ],
             [
              0.4444444444444444,
              "#bd3786"
             ],
             [
              0.5555555555555556,
              "#d8576b"
             ],
             [
              0.6666666666666666,
              "#ed7953"
             ],
             [
              0.7777777777777778,
              "#fb9f3a"
             ],
             [
              0.8888888888888888,
              "#fdca26"
             ],
             [
              1,
              "#f0f921"
             ]
            ],
            "type": "histogram2d"
           }
          ],
          "histogram2dcontour": [
           {
            "colorbar": {
             "outlinewidth": 0,
             "ticks": ""
            },
            "colorscale": [
             [
              0,
              "#0d0887"
             ],
             [
              0.1111111111111111,
              "#46039f"
             ],
             [
              0.2222222222222222,
              "#7201a8"
             ],
             [
              0.3333333333333333,
              "#9c179e"
             ],
             [
              0.4444444444444444,
              "#bd3786"
             ],
             [
              0.5555555555555556,
              "#d8576b"
             ],
             [
              0.6666666666666666,
              "#ed7953"
             ],
             [
              0.7777777777777778,
              "#fb9f3a"
             ],
             [
              0.8888888888888888,
              "#fdca26"
             ],
             [
              1,
              "#f0f921"
             ]
            ],
            "type": "histogram2dcontour"
           }
          ],
          "mesh3d": [
           {
            "colorbar": {
             "outlinewidth": 0,
             "ticks": ""
            },
            "type": "mesh3d"
           }
          ],
          "parcoords": [
           {
            "line": {
             "colorbar": {
              "outlinewidth": 0,
              "ticks": ""
             }
            },
            "type": "parcoords"
           }
          ],
          "pie": [
           {
            "automargin": true,
            "type": "pie"
           }
          ],
          "scatter": [
           {
            "fillpattern": {
             "fillmode": "overlay",
             "size": 10,
             "solidity": 0.2
            },
            "type": "scatter"
           }
          ],
          "scatter3d": [
           {
            "line": {
             "colorbar": {
              "outlinewidth": 0,
              "ticks": ""
             }
            },
            "marker": {
             "colorbar": {
              "outlinewidth": 0,
              "ticks": ""
             }
            },
            "type": "scatter3d"
           }
          ],
          "scattercarpet": [
           {
            "marker": {
             "colorbar": {
              "outlinewidth": 0,
              "ticks": ""
             }
            },
            "type": "scattercarpet"
           }
          ],
          "scattergeo": [
           {
            "marker": {
             "colorbar": {
              "outlinewidth": 0,
              "ticks": ""
             }
            },
            "type": "scattergeo"
           }
          ],
          "scattergl": [
           {
            "marker": {
             "colorbar": {
              "outlinewidth": 0,
              "ticks": ""
             }
            },
            "type": "scattergl"
           }
          ],
          "scattermapbox": [
           {
            "marker": {
             "colorbar": {
              "outlinewidth": 0,
              "ticks": ""
             }
            },
            "type": "scattermapbox"
           }
          ],
          "scatterpolar": [
           {
            "marker": {
             "colorbar": {
              "outlinewidth": 0,
              "ticks": ""
             }
            },
            "type": "scatterpolar"
           }
          ],
          "scatterpolargl": [
           {
            "marker": {
             "colorbar": {
              "outlinewidth": 0,
              "ticks": ""
             }
            },
            "type": "scatterpolargl"
           }
          ],
          "scatterternary": [
           {
            "marker": {
             "colorbar": {
              "outlinewidth": 0,
              "ticks": ""
             }
            },
            "type": "scatterternary"
           }
          ],
          "surface": [
           {
            "colorbar": {
             "outlinewidth": 0,
             "ticks": ""
            },
            "colorscale": [
             [
              0,
              "#0d0887"
             ],
             [
              0.1111111111111111,
              "#46039f"
             ],
             [
              0.2222222222222222,
              "#7201a8"
             ],
             [
              0.3333333333333333,
              "#9c179e"
             ],
             [
              0.4444444444444444,
              "#bd3786"
             ],
             [
              0.5555555555555556,
              "#d8576b"
             ],
             [
              0.6666666666666666,
              "#ed7953"
             ],
             [
              0.7777777777777778,
              "#fb9f3a"
             ],
             [
              0.8888888888888888,
              "#fdca26"
             ],
             [
              1,
              "#f0f921"
             ]
            ],
            "type": "surface"
           }
          ],
          "table": [
           {
            "cells": {
             "fill": {
              "color": "#EBF0F8"
             },
             "line": {
              "color": "white"
             }
            },
            "header": {
             "fill": {
              "color": "#C8D4E3"
             },
             "line": {
              "color": "white"
             }
            },
            "type": "table"
           }
          ]
         },
         "layout": {
          "annotationdefaults": {
           "arrowcolor": "#2a3f5f",
           "arrowhead": 0,
           "arrowwidth": 1
          },
          "autotypenumbers": "strict",
          "coloraxis": {
           "colorbar": {
            "outlinewidth": 0,
            "ticks": ""
           }
          },
          "colorscale": {
           "diverging": [
            [
             0,
             "#8e0152"
            ],
            [
             0.1,
             "#c51b7d"
            ],
            [
             0.2,
             "#de77ae"
            ],
            [
             0.3,
             "#f1b6da"
            ],
            [
             0.4,
             "#fde0ef"
            ],
            [
             0.5,
             "#f7f7f7"
            ],
            [
             0.6,
             "#e6f5d0"
            ],
            [
             0.7,
             "#b8e186"
            ],
            [
             0.8,
             "#7fbc41"
            ],
            [
             0.9,
             "#4d9221"
            ],
            [
             1,
             "#276419"
            ]
           ],
           "sequential": [
            [
             0,
             "#0d0887"
            ],
            [
             0.1111111111111111,
             "#46039f"
            ],
            [
             0.2222222222222222,
             "#7201a8"
            ],
            [
             0.3333333333333333,
             "#9c179e"
            ],
            [
             0.4444444444444444,
             "#bd3786"
            ],
            [
             0.5555555555555556,
             "#d8576b"
            ],
            [
             0.6666666666666666,
             "#ed7953"
            ],
            [
             0.7777777777777778,
             "#fb9f3a"
            ],
            [
             0.8888888888888888,
             "#fdca26"
            ],
            [
             1,
             "#f0f921"
            ]
           ],
           "sequentialminus": [
            [
             0,
             "#0d0887"
            ],
            [
             0.1111111111111111,
             "#46039f"
            ],
            [
             0.2222222222222222,
             "#7201a8"
            ],
            [
             0.3333333333333333,
             "#9c179e"
            ],
            [
             0.4444444444444444,
             "#bd3786"
            ],
            [
             0.5555555555555556,
             "#d8576b"
            ],
            [
             0.6666666666666666,
             "#ed7953"
            ],
            [
             0.7777777777777778,
             "#fb9f3a"
            ],
            [
             0.8888888888888888,
             "#fdca26"
            ],
            [
             1,
             "#f0f921"
            ]
           ]
          },
          "colorway": [
           "#636efa",
           "#EF553B",
           "#00cc96",
           "#ab63fa",
           "#FFA15A",
           "#19d3f3",
           "#FF6692",
           "#B6E880",
           "#FF97FF",
           "#FECB52"
          ],
          "font": {
           "color": "#2a3f5f"
          },
          "geo": {
           "bgcolor": "white",
           "lakecolor": "white",
           "landcolor": "#E5ECF6",
           "showlakes": true,
           "showland": true,
           "subunitcolor": "white"
          },
          "hoverlabel": {
           "align": "left"
          },
          "hovermode": "closest",
          "mapbox": {
           "style": "light"
          },
          "paper_bgcolor": "white",
          "plot_bgcolor": "#E5ECF6",
          "polar": {
           "angularaxis": {
            "gridcolor": "white",
            "linecolor": "white",
            "ticks": ""
           },
           "bgcolor": "#E5ECF6",
           "radialaxis": {
            "gridcolor": "white",
            "linecolor": "white",
            "ticks": ""
           }
          },
          "scene": {
           "xaxis": {
            "backgroundcolor": "#E5ECF6",
            "gridcolor": "white",
            "gridwidth": 2,
            "linecolor": "white",
            "showbackground": true,
            "ticks": "",
            "zerolinecolor": "white"
           },
           "yaxis": {
            "backgroundcolor": "#E5ECF6",
            "gridcolor": "white",
            "gridwidth": 2,
            "linecolor": "white",
            "showbackground": true,
            "ticks": "",
            "zerolinecolor": "white"
           },
           "zaxis": {
            "backgroundcolor": "#E5ECF6",
            "gridcolor": "white",
            "gridwidth": 2,
            "linecolor": "white",
            "showbackground": true,
            "ticks": "",
            "zerolinecolor": "white"
           }
          },
          "shapedefaults": {
           "line": {
            "color": "#2a3f5f"
           }
          },
          "ternary": {
           "aaxis": {
            "gridcolor": "white",
            "linecolor": "white",
            "ticks": ""
           },
           "baxis": {
            "gridcolor": "white",
            "linecolor": "white",
            "ticks": ""
           },
           "bgcolor": "#E5ECF6",
           "caxis": {
            "gridcolor": "white",
            "linecolor": "white",
            "ticks": ""
           }
          },
          "title": {
           "x": 0.05
          },
          "xaxis": {
           "automargin": true,
           "gridcolor": "white",
           "linecolor": "white",
           "ticks": "",
           "title": {
            "standoff": 15
           },
           "zerolinecolor": "white",
           "zerolinewidth": 2
          },
          "yaxis": {
           "automargin": true,
           "gridcolor": "white",
           "linecolor": "white",
           "ticks": "",
           "title": {
            "standoff": 15
           },
           "zerolinecolor": "white",
           "zerolinewidth": 2
          }
         }
        },
        "title": {
         "text": "Repartition of global rates",
         "x": 0.5
        },
        "xaxis": {
         "title": {
          "text": "Global rate"
         }
        },
        "yaxis": {
         "title": {
          "text": "Count"
         }
        }
       }
      }
     },
     "metadata": {},
     "output_type": "display_data"
    }
   ],
   "source": [
    "fig = go.Figure()\n",
    "\n",
    "fig.add_trace(go.Bar(\n",
    "    x=train_df['global_rate'].value_counts().index,\n",
    "    y=train_df['global_rate'].value_counts().values,\n",
    "    name='Train'\n",
    "))\n",
    "\n",
    "fig.add_trace(go.Bar(\n",
    "    x=val_df['global_rate'].value_counts().index,\n",
    "    y=val_df['global_rate'].value_counts().values,\n",
    "    name='Validation'\n",
    "))\n",
    "\n",
    "fig.update_layout(\n",
    "    title=\"Repartition of global rates\",\n",
    "    xaxis_title=\"Global rate\",\n",
    "    yaxis_title=\"Count\",\n",
    "    title_x=0.5\n",
    ")\n",
    "\n",
    "fig.show()"
   ]
  },
  {
   "cell_type": "markdown",
   "metadata": {},
   "source": [
    "La répartition des notes est homogène entre le jeu train et test."
   ]
  },
  {
   "cell_type": "markdown",
   "metadata": {},
   "source": [
    "### Tailles des nouveaux jeux de données"
   ]
  },
  {
   "cell_type": "code",
   "execution_count": 22,
   "metadata": {},
   "outputs": [
    {
     "data": {
      "text/plain": [
       "(667240, 5)"
      ]
     },
     "execution_count": 22,
     "metadata": {},
     "output_type": "execute_result"
    }
   ],
   "source": [
    "train_df.shape"
   ]
  },
  {
   "cell_type": "code",
   "execution_count": 23,
   "metadata": {},
   "outputs": [
    {
     "data": {
      "text/plain": [
       "(166811, 5)"
      ]
     },
     "execution_count": 23,
     "metadata": {},
     "output_type": "execute_result"
    }
   ],
   "source": [
    "val_df.shape"
   ]
  },
  {
   "cell_type": "code",
   "execution_count": 24,
   "metadata": {},
   "outputs": [
    {
     "data": {
      "text/plain": [
       "(228451, 4)"
      ]
     },
     "execution_count": 24,
     "metadata": {},
     "output_type": "execute_result"
    }
   ],
   "source": [
    "test_df.shape"
   ]
  },
  {
   "cell_type": "markdown",
   "metadata": {},
   "source": [
    "### Enregistrement des jeux de données sans valeurs manquantes"
   ]
  },
  {
   "cell_type": "code",
   "execution_count": 25,
   "metadata": {},
   "outputs": [],
   "source": [
    "with gzip.open('../data/train_no_nan.pkl.gz', 'wb') as f:\n",
    "    pickle.dump(train_df, f)\n",
    "\n",
    "with gzip.open('../data/val_no_nan.pkl.gz', 'wb') as f:\n",
    "    pickle.dump(val_df, f)\n",
    "\n",
    "with gzip.open('../data/test_no_nan.pkl.gz', 'wb') as f:\n",
    "    pickle.dump(test_df, f)\n",
    "    \n",
    "train_df.to_csv('../data/train_no_nan.csv', index=False)\n",
    "val_df.to_csv('../data/val_no_nan.csv', index=False)\n",
    "test_df.to_csv('../data/test_no_nan.csv', index=False)"
   ]
  }
 ],
 "metadata": {
  "kernelspec": {
   "display_name": ".venv",
   "language": "python",
   "name": "python3"
  },
  "language_info": {
   "codemirror_mode": {
    "name": "ipython",
    "version": 3
   },
   "file_extension": ".py",
   "mimetype": "text/x-python",
   "name": "python",
   "nbconvert_exporter": "python",
   "pygments_lexer": "ipython3",
   "version": "3.11.5"
  }
 },
 "nbformat": 4,
 "nbformat_minor": 2
}
